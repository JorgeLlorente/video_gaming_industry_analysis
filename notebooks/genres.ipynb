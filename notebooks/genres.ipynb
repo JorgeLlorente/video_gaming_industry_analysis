{
 "cells": [
  {
   "cell_type": "code",
   "execution_count": 2,
   "metadata": {},
   "outputs": [
    {
     "name": "stderr",
     "output_type": "stream",
     "text": [
      "c:\\Users\\jorge\\anaconda3\\envs\\Ironhack\\lib\\site-packages\\fuzzywuzzy\\fuzz.py:11: UserWarning: Using slow pure-python SequenceMatcher. Install python-Levenshtein to remove this warning\n",
      "  warnings.warn('Using slow pure-python SequenceMatcher. Install python-Levenshtein to remove this warning')\n"
     ]
    }
   ],
   "source": [
    "import requests\n",
    "import pandas as pd\n",
    "from time import sleep\n",
    "import numpy as np\n",
    "import re\n",
    "import random\n",
    "import os\n",
    "from fuzzywuzzy import process, fuzz\n",
    "\n",
    "from selenium import webdriver\n",
    "from webdriver_manager.chrome import ChromeDriverManager\n",
    "from selenium.webdriver.common.keys import Keys\n",
    "from selenium.webdriver.chrome.options import Options\n",
    "from selenium.common.exceptions import NoSuchElementException\n",
    "from selenium.common.exceptions import ElementClickInterceptedException\n",
    "from selenium.common.exceptions import WebDriverException\n",
    "\n",
    "\n",
    "\n",
    "import warnings\n",
    "warnings.filterwarnings('ignore')"
   ]
  },
  {
   "attachments": {},
   "cell_type": "markdown",
   "metadata": {},
   "source": [
    "### Web Scraping Genres"
   ]
  },
  {
   "cell_type": "code",
   "execution_count": 499,
   "metadata": {},
   "outputs": [],
   "source": [
    "opciones= Options()\n",
    "opciones.add_experimental_option('excludeSwitches', ['enable-automation'])\n",
    "opciones.add_experimental_option('useAutomationExtension', False)\n",
    "opciones.add_argument('--start-maximized')\n",
    "opciones.add_argument('user.data-dir=selenium')\n",
    "opciones.add_argument('--incognito')"
   ]
  },
  {
   "cell_type": "code",
   "execution_count": 2,
   "metadata": {},
   "outputs": [],
   "source": [
    "# For this data, we are going to web scrape a web page to obtain the genres of different games. Due to the\n",
    "# length of the project, we will focus on the games from the twitch data that appear in the esports file. \n",
    "\n",
    "df = pd.read_csv(\"../data/twitch/twitch_raw\")\n",
    "df.drop(\"Unnamed: 0\", axis=1, inplace=True)"
   ]
  },
  {
   "cell_type": "code",
   "execution_count": 3,
   "metadata": {},
   "outputs": [],
   "source": [
    "juegos_twitch = df[\"Game\"].to_list()"
   ]
  },
  {
   "cell_type": "code",
   "execution_count": 4,
   "metadata": {},
   "outputs": [],
   "source": [
    "dff = pd.read_csv(\"../data/csv/all_games.csv\")\n",
    "dff.drop(\"Unnamed: 0\", axis=1, inplace=True)\n",
    "juegos_meta = dff[\"name\"].to_list()"
   ]
  },
  {
   "cell_type": "code",
   "execution_count": 5,
   "metadata": {},
   "outputs": [],
   "source": [
    "juegos = []\n",
    "for juego in juegos_twitch:\n",
    "    if juego in juegos_meta:\n",
    "        juegos.append(juego)"
   ]
  },
  {
   "cell_type": "code",
   "execution_count": 6,
   "metadata": {},
   "outputs": [],
   "source": [
    "juegos = set(juegos)"
   ]
  },
  {
   "cell_type": "code",
   "execution_count": 7,
   "metadata": {},
   "outputs": [
    {
     "data": {
      "text/plain": [
       "522"
      ]
     },
     "execution_count": 7,
     "metadata": {},
     "output_type": "execute_result"
    }
   ],
   "source": [
    "len(juegos)"
   ]
  },
  {
   "cell_type": "code",
   "execution_count": 514,
   "metadata": {},
   "outputs": [],
   "source": [
    "# In order to avoid \"Not Found Error\" in the web page, we will try to obtain the exact url for each game.\n",
    "\n",
    "juegos_url = []\n",
    "for juego in juegos:\n",
    "    if \"'\" in juego or \":\" in juego:\n",
    "        juegos_url.append(re.sub(\"\\s\", \"-\", juego.replace(\"'\", \"\").replace(\":\",\"\").lower()))\n",
    "    else:\n",
    "        juegos_url.append(re.sub(\"\\s\", \"-\", juego).lower())"
   ]
  },
  {
   "cell_type": "code",
   "execution_count": 517,
   "metadata": {},
   "outputs": [],
   "source": [
    "# Here the code to Web Scrape the Metacritics webpage.\n",
    "\n",
    "opciones= Options()\n",
    "opciones.add_experimental_option('excludeSwitches', ['enable-automation'])\n",
    "opciones.add_experimental_option('useAutomationExtension', False)\n",
    "opciones.add_argument('--start-maximized')\n",
    "opciones.add_argument('user.data-dir=selenium')\n",
    "opciones.add_argument('--incognito')\n",
    "\n",
    "driver = webdriver.Chrome(ChromeDriverManager().install())\n",
    "\n",
    "dicc = {\"juego\": [], \"datos\": []}\n",
    "\n",
    "for juego, juego_url in zip(juegos, juegos_url):\n",
    "        try:\n",
    "                driver.get(f\"https://www.metacritic.com/game/pc/{juego_url}\")\n",
    "                sleep(6)\n",
    "                dicc[\"juego\"].append(juego)\n",
    "                dicc[\"datos\"].append(driver.find_element(\"xpath\", '//*[@id=\"main\"]/div/div[1]/div[1]/div[3]/div/div/div[2]/div[2]/div[2]/ul').text)\n",
    "        except NoSuchElementException:\n",
    "                dicc[\"datos\"].append(\"no hay data\")"
   ]
  },
  {
   "cell_type": "code",
   "execution_count": 518,
   "metadata": {},
   "outputs": [
    {
     "data": {
      "text/html": [
       "<div>\n",
       "<style scoped>\n",
       "    .dataframe tbody tr th:only-of-type {\n",
       "        vertical-align: middle;\n",
       "    }\n",
       "\n",
       "    .dataframe tbody tr th {\n",
       "        vertical-align: top;\n",
       "    }\n",
       "\n",
       "    .dataframe thead th {\n",
       "        text-align: right;\n",
       "    }\n",
       "</style>\n",
       "<table border=\"1\" class=\"dataframe\">\n",
       "  <thead>\n",
       "    <tr style=\"text-align: right;\">\n",
       "      <th></th>\n",
       "      <th>juego</th>\n",
       "      <th>datos</th>\n",
       "    </tr>\n",
       "  </thead>\n",
       "  <tbody>\n",
       "    <tr>\n",
       "      <th>0</th>\n",
       "      <td>Injustice 2</td>\n",
       "      <td>Developer: QLOC\\nGenre(s): Action, Fighting, 2...</td>\n",
       "    </tr>\n",
       "    <tr>\n",
       "      <th>1</th>\n",
       "      <td>Saints Row</td>\n",
       "      <td>Developer: Volition Inc.\\nGenre(s): Action Adv...</td>\n",
       "    </tr>\n",
       "    <tr>\n",
       "      <th>2</th>\n",
       "      <td>Shenmue III</td>\n",
       "      <td>Developer: Ys Net\\nGenre(s): Action Adventure,...</td>\n",
       "    </tr>\n",
       "    <tr>\n",
       "      <th>3</th>\n",
       "      <td>L.A. Noire</td>\n",
       "      <td>no hay data</td>\n",
       "    </tr>\n",
       "    <tr>\n",
       "      <th>4</th>\n",
       "      <td>Assassin's Creed Valhalla</td>\n",
       "      <td>Developer: Ubisoft Montreal\\nGenre(s): Action ...</td>\n",
       "    </tr>\n",
       "  </tbody>\n",
       "</table>\n",
       "</div>"
      ],
      "text/plain": [
       "                       juego  \\\n",
       "0                Injustice 2   \n",
       "1                 Saints Row   \n",
       "2                Shenmue III   \n",
       "3                 L.A. Noire   \n",
       "4  Assassin's Creed Valhalla   \n",
       "\n",
       "                                               datos  \n",
       "0  Developer: QLOC\\nGenre(s): Action, Fighting, 2...  \n",
       "1  Developer: Volition Inc.\\nGenre(s): Action Adv...  \n",
       "2  Developer: Ys Net\\nGenre(s): Action Adventure,...  \n",
       "3                                        no hay data  \n",
       "4  Developer: Ubisoft Montreal\\nGenre(s): Action ...  "
      ]
     },
     "execution_count": 518,
     "metadata": {},
     "output_type": "execute_result"
    }
   ],
   "source": [
    "df = pd.DataFrame(dicc)\n",
    "df.head()"
   ]
  },
  {
   "cell_type": "code",
   "execution_count": 519,
   "metadata": {},
   "outputs": [],
   "source": [
    "df.to_csv(\"generos_raw.csv\")"
   ]
  },
  {
   "attachments": {},
   "cell_type": "markdown",
   "metadata": {},
   "source": [
    "### Data Wrangling $ Data Cleaning"
   ]
  },
  {
   "cell_type": "code",
   "execution_count": 11,
   "metadata": {},
   "outputs": [],
   "source": [
    "df = pd.read_csv(\"../data/generos/generos_raw.csv\")\n",
    "df.drop([\"Unnamed: 0\"],axis=1, inplace=True)"
   ]
  },
  {
   "cell_type": "code",
   "execution_count": 12,
   "metadata": {},
   "outputs": [
    {
     "data": {
      "text/html": [
       "<div>\n",
       "<style scoped>\n",
       "    .dataframe tbody tr th:only-of-type {\n",
       "        vertical-align: middle;\n",
       "    }\n",
       "\n",
       "    .dataframe tbody tr th {\n",
       "        vertical-align: top;\n",
       "    }\n",
       "\n",
       "    .dataframe thead th {\n",
       "        text-align: right;\n",
       "    }\n",
       "</style>\n",
       "<table border=\"1\" class=\"dataframe\">\n",
       "  <thead>\n",
       "    <tr style=\"text-align: right;\">\n",
       "      <th></th>\n",
       "      <th>juego</th>\n",
       "      <th>datos</th>\n",
       "    </tr>\n",
       "  </thead>\n",
       "  <tbody>\n",
       "    <tr>\n",
       "      <th>0</th>\n",
       "      <td>Injustice 2</td>\n",
       "      <td>Developer: QLOC\\nGenre(s): Action, Fighting, 2...</td>\n",
       "    </tr>\n",
       "    <tr>\n",
       "      <th>1</th>\n",
       "      <td>Saints Row</td>\n",
       "      <td>Developer: Volition Inc.\\nGenre(s): Action Adv...</td>\n",
       "    </tr>\n",
       "  </tbody>\n",
       "</table>\n",
       "</div>"
      ],
      "text/plain": [
       "         juego                                              datos\n",
       "0  Injustice 2  Developer: QLOC\\nGenre(s): Action, Fighting, 2...\n",
       "1   Saints Row  Developer: Volition Inc.\\nGenre(s): Action Adv..."
      ]
     },
     "execution_count": 12,
     "metadata": {},
     "output_type": "execute_result"
    }
   ],
   "source": [
    "df.head(2)"
   ]
  },
  {
   "cell_type": "code",
   "execution_count": 13,
   "metadata": {},
   "outputs": [
    {
     "data": {
      "text/html": [
       "<div>\n",
       "<style scoped>\n",
       "    .dataframe tbody tr th:only-of-type {\n",
       "        vertical-align: middle;\n",
       "    }\n",
       "\n",
       "    .dataframe tbody tr th {\n",
       "        vertical-align: top;\n",
       "    }\n",
       "\n",
       "    .dataframe thead th {\n",
       "        text-align: right;\n",
       "    }\n",
       "</style>\n",
       "<table border=\"1\" class=\"dataframe\">\n",
       "  <thead>\n",
       "    <tr style=\"text-align: right;\">\n",
       "      <th></th>\n",
       "      <th>juego</th>\n",
       "      <th>datos</th>\n",
       "    </tr>\n",
       "  </thead>\n",
       "  <tbody>\n",
       "    <tr>\n",
       "      <th>0</th>\n",
       "      <td>Injustice 2</td>\n",
       "      <td>[Developer: QLOC, Genre(s): Action, Fighting, ...</td>\n",
       "    </tr>\n",
       "    <tr>\n",
       "      <th>1</th>\n",
       "      <td>Saints Row</td>\n",
       "      <td>[Developer: Volition Inc., Genre(s): Action Ad...</td>\n",
       "    </tr>\n",
       "    <tr>\n",
       "      <th>2</th>\n",
       "      <td>Shenmue III</td>\n",
       "      <td>[Developer: Ys Net, Genre(s): Action Adventure...</td>\n",
       "    </tr>\n",
       "    <tr>\n",
       "      <th>3</th>\n",
       "      <td>L.A. Noire</td>\n",
       "      <td>[no hay data]</td>\n",
       "    </tr>\n",
       "    <tr>\n",
       "      <th>4</th>\n",
       "      <td>Assassin's Creed Valhalla</td>\n",
       "      <td>[Developer: Ubisoft Montreal, Genre(s): Action...</td>\n",
       "    </tr>\n",
       "  </tbody>\n",
       "</table>\n",
       "</div>"
      ],
      "text/plain": [
       "                       juego  \\\n",
       "0                Injustice 2   \n",
       "1                 Saints Row   \n",
       "2                Shenmue III   \n",
       "3                 L.A. Noire   \n",
       "4  Assassin's Creed Valhalla   \n",
       "\n",
       "                                               datos  \n",
       "0  [Developer: QLOC, Genre(s): Action, Fighting, ...  \n",
       "1  [Developer: Volition Inc., Genre(s): Action Ad...  \n",
       "2  [Developer: Ys Net, Genre(s): Action Adventure...  \n",
       "3                                      [no hay data]  \n",
       "4  [Developer: Ubisoft Montreal, Genre(s): Action...  "
      ]
     },
     "execution_count": 13,
     "metadata": {},
     "output_type": "execute_result"
    }
   ],
   "source": [
    "df[\"datos\"] = df[\"datos\"].str.split(\"\\n\")\n",
    "df.head()"
   ]
  },
  {
   "cell_type": "code",
   "execution_count": 14,
   "metadata": {},
   "outputs": [],
   "source": [
    "dicci = {\"Developer\": [], \"Genre(s)\": [], \"# of players\": [], \"Cheats\": [], \"Available On\": [], \"Rating\": [], \"More Details and Credits »\": []}"
   ]
  },
  {
   "cell_type": "code",
   "execution_count": 15,
   "metadata": {},
   "outputs": [
    {
     "data": {
      "text/html": [
       "<div>\n",
       "<style scoped>\n",
       "    .dataframe tbody tr th:only-of-type {\n",
       "        vertical-align: middle;\n",
       "    }\n",
       "\n",
       "    .dataframe tbody tr th {\n",
       "        vertical-align: top;\n",
       "    }\n",
       "\n",
       "    .dataframe thead th {\n",
       "        text-align: right;\n",
       "    }\n",
       "</style>\n",
       "<table border=\"1\" class=\"dataframe\">\n",
       "  <thead>\n",
       "    <tr style=\"text-align: right;\">\n",
       "      <th></th>\n",
       "      <th>Developer</th>\n",
       "      <th>Genre(s)</th>\n",
       "      <th># of players</th>\n",
       "      <th>Cheats</th>\n",
       "      <th>Available On</th>\n",
       "      <th>Rating</th>\n",
       "      <th>More Details and Credits »</th>\n",
       "    </tr>\n",
       "  </thead>\n",
       "  <tbody>\n",
       "  </tbody>\n",
       "</table>\n",
       "</div>"
      ],
      "text/plain": [
       "Empty DataFrame\n",
       "Columns: [Developer, Genre(s), # of players, Cheats, Available On, Rating, More Details and Credits »]\n",
       "Index: []"
      ]
     },
     "execution_count": 15,
     "metadata": {},
     "output_type": "execute_result"
    }
   ],
   "source": [
    "df_data = pd.DataFrame(dicci)\n",
    "df_data.head()"
   ]
  },
  {
   "cell_type": "code",
   "execution_count": 16,
   "metadata": {},
   "outputs": [
    {
     "data": {
      "text/html": [
       "<div>\n",
       "<style scoped>\n",
       "    .dataframe tbody tr th:only-of-type {\n",
       "        vertical-align: middle;\n",
       "    }\n",
       "\n",
       "    .dataframe tbody tr th {\n",
       "        vertical-align: top;\n",
       "    }\n",
       "\n",
       "    .dataframe thead th {\n",
       "        text-align: right;\n",
       "    }\n",
       "</style>\n",
       "<table border=\"1\" class=\"dataframe\">\n",
       "  <thead>\n",
       "    <tr style=\"text-align: right;\">\n",
       "      <th></th>\n",
       "      <th>juego</th>\n",
       "      <th>datos</th>\n",
       "      <th>Developer</th>\n",
       "      <th>Genre(s)</th>\n",
       "      <th># of players</th>\n",
       "      <th>Cheats</th>\n",
       "      <th>Available On</th>\n",
       "      <th>Rating</th>\n",
       "      <th>More Details and Credits »</th>\n",
       "    </tr>\n",
       "  </thead>\n",
       "  <tbody>\n",
       "    <tr>\n",
       "      <th>0</th>\n",
       "      <td>Injustice 2</td>\n",
       "      <td>[Developer: QLOC, Genre(s): Action, Fighting, ...</td>\n",
       "      <td>NaN</td>\n",
       "      <td>NaN</td>\n",
       "      <td>NaN</td>\n",
       "      <td>NaN</td>\n",
       "      <td>NaN</td>\n",
       "      <td>NaN</td>\n",
       "      <td>NaN</td>\n",
       "    </tr>\n",
       "    <tr>\n",
       "      <th>1</th>\n",
       "      <td>Saints Row</td>\n",
       "      <td>[Developer: Volition Inc., Genre(s): Action Ad...</td>\n",
       "      <td>NaN</td>\n",
       "      <td>NaN</td>\n",
       "      <td>NaN</td>\n",
       "      <td>NaN</td>\n",
       "      <td>NaN</td>\n",
       "      <td>NaN</td>\n",
       "      <td>NaN</td>\n",
       "    </tr>\n",
       "    <tr>\n",
       "      <th>2</th>\n",
       "      <td>Shenmue III</td>\n",
       "      <td>[Developer: Ys Net, Genre(s): Action Adventure...</td>\n",
       "      <td>NaN</td>\n",
       "      <td>NaN</td>\n",
       "      <td>NaN</td>\n",
       "      <td>NaN</td>\n",
       "      <td>NaN</td>\n",
       "      <td>NaN</td>\n",
       "      <td>NaN</td>\n",
       "    </tr>\n",
       "    <tr>\n",
       "      <th>3</th>\n",
       "      <td>L.A. Noire</td>\n",
       "      <td>[no hay data]</td>\n",
       "      <td>NaN</td>\n",
       "      <td>NaN</td>\n",
       "      <td>NaN</td>\n",
       "      <td>NaN</td>\n",
       "      <td>NaN</td>\n",
       "      <td>NaN</td>\n",
       "      <td>NaN</td>\n",
       "    </tr>\n",
       "    <tr>\n",
       "      <th>4</th>\n",
       "      <td>Assassin's Creed Valhalla</td>\n",
       "      <td>[Developer: Ubisoft Montreal, Genre(s): Action...</td>\n",
       "      <td>NaN</td>\n",
       "      <td>NaN</td>\n",
       "      <td>NaN</td>\n",
       "      <td>NaN</td>\n",
       "      <td>NaN</td>\n",
       "      <td>NaN</td>\n",
       "      <td>NaN</td>\n",
       "    </tr>\n",
       "  </tbody>\n",
       "</table>\n",
       "</div>"
      ],
      "text/plain": [
       "                       juego  \\\n",
       "0                Injustice 2   \n",
       "1                 Saints Row   \n",
       "2                Shenmue III   \n",
       "3                 L.A. Noire   \n",
       "4  Assassin's Creed Valhalla   \n",
       "\n",
       "                                               datos  Developer  Genre(s)  \\\n",
       "0  [Developer: QLOC, Genre(s): Action, Fighting, ...        NaN       NaN   \n",
       "1  [Developer: Volition Inc., Genre(s): Action Ad...        NaN       NaN   \n",
       "2  [Developer: Ys Net, Genre(s): Action Adventure...        NaN       NaN   \n",
       "3                                      [no hay data]        NaN       NaN   \n",
       "4  [Developer: Ubisoft Montreal, Genre(s): Action...        NaN       NaN   \n",
       "\n",
       "   # of players  Cheats  Available On  Rating  More Details and Credits »  \n",
       "0           NaN     NaN           NaN     NaN                         NaN  \n",
       "1           NaN     NaN           NaN     NaN                         NaN  \n",
       "2           NaN     NaN           NaN     NaN                         NaN  \n",
       "3           NaN     NaN           NaN     NaN                         NaN  \n",
       "4           NaN     NaN           NaN     NaN                         NaN  "
      ]
     },
     "execution_count": 16,
     "metadata": {},
     "output_type": "execute_result"
    }
   ],
   "source": [
    "df = pd.concat([df, df_data])\n",
    "df.head(5)"
   ]
  },
  {
   "cell_type": "code",
   "execution_count": 17,
   "metadata": {},
   "outputs": [],
   "source": [
    "# We need to fill the above df with the data we have available (some of them will be NaN). This code will fill\n",
    "# each row with the data available.\n",
    "\n",
    "for index, row in df.iterrows():\n",
    "    for dato in row[\"datos\"]:\n",
    "        for columna in list(df.columns):\n",
    "            if dato == \"More Details and Credits »\":\n",
    "                pass\n",
    "            elif dato.split(\":\")[0] == columna:\n",
    "                df.loc[index, columna] = dato.split(\":\")[1]"
   ]
  },
  {
   "cell_type": "code",
   "execution_count": 18,
   "metadata": {},
   "outputs": [
    {
     "data": {
      "text/html": [
       "<div>\n",
       "<style scoped>\n",
       "    .dataframe tbody tr th:only-of-type {\n",
       "        vertical-align: middle;\n",
       "    }\n",
       "\n",
       "    .dataframe tbody tr th {\n",
       "        vertical-align: top;\n",
       "    }\n",
       "\n",
       "    .dataframe thead th {\n",
       "        text-align: right;\n",
       "    }\n",
       "</style>\n",
       "<table border=\"1\" class=\"dataframe\">\n",
       "  <thead>\n",
       "    <tr style=\"text-align: right;\">\n",
       "      <th></th>\n",
       "      <th>juego</th>\n",
       "      <th>datos</th>\n",
       "      <th>Developer</th>\n",
       "      <th>Genre(s)</th>\n",
       "      <th># of players</th>\n",
       "      <th>Cheats</th>\n",
       "      <th>Available On</th>\n",
       "      <th>Rating</th>\n",
       "      <th>More Details and Credits »</th>\n",
       "    </tr>\n",
       "  </thead>\n",
       "  <tbody>\n",
       "    <tr>\n",
       "      <th>0</th>\n",
       "      <td>Injustice 2</td>\n",
       "      <td>[Developer: QLOC, Genre(s): Action, Fighting, ...</td>\n",
       "      <td>QLOC</td>\n",
       "      <td>Action, Fighting, 2D</td>\n",
       "      <td>Online Multiplayer</td>\n",
       "      <td>On GameFAQs</td>\n",
       "      <td>NaN</td>\n",
       "      <td>T</td>\n",
       "      <td>NaN</td>\n",
       "    </tr>\n",
       "    <tr>\n",
       "      <th>1</th>\n",
       "      <td>Saints Row</td>\n",
       "      <td>[Developer: Volition Inc., Genre(s): Action Ad...</td>\n",
       "      <td>Volition Inc.</td>\n",
       "      <td>Action Adventure, Open-World</td>\n",
       "      <td>NaN</td>\n",
       "      <td>On GameFAQs</td>\n",
       "      <td>Stadia</td>\n",
       "      <td>M</td>\n",
       "      <td>NaN</td>\n",
       "    </tr>\n",
       "  </tbody>\n",
       "</table>\n",
       "</div>"
      ],
      "text/plain": [
       "         juego                                              datos  \\\n",
       "0  Injustice 2  [Developer: QLOC, Genre(s): Action, Fighting, ...   \n",
       "1   Saints Row  [Developer: Volition Inc., Genre(s): Action Ad...   \n",
       "\n",
       "        Developer                       Genre(s)         # of players  \\\n",
       "0            QLOC           Action, Fighting, 2D   Online Multiplayer   \n",
       "1   Volition Inc.   Action Adventure, Open-World                  NaN   \n",
       "\n",
       "         Cheats Available On Rating  More Details and Credits »  \n",
       "0   On GameFAQs          NaN      T                         NaN  \n",
       "1   On GameFAQs       Stadia      M                         NaN  "
      ]
     },
     "execution_count": 18,
     "metadata": {},
     "output_type": "execute_result"
    }
   ],
   "source": [
    "df.head(2)"
   ]
  },
  {
   "cell_type": "code",
   "execution_count": 19,
   "metadata": {},
   "outputs": [
    {
     "data": {
      "text/plain": [
       "184"
      ]
     },
     "execution_count": 19,
     "metadata": {},
     "output_type": "execute_result"
    }
   ],
   "source": [
    "# We need to decide if we keep the genre in one row or we separate it. The unique values are 184 with genres\n",
    "# grouped. We choose to separate them so we can study them one by one.\n",
    "\n",
    "df[\"Genre(s)\"].unique().size"
   ]
  },
  {
   "cell_type": "code",
   "execution_count": 20,
   "metadata": {},
   "outputs": [],
   "source": [
    "df.drop([\"datos\", \"More Details and Credits »\", \"Cheats\", \"Available On\"], axis=1, inplace=True)"
   ]
  },
  {
   "cell_type": "code",
   "execution_count": 21,
   "metadata": {},
   "outputs": [
    {
     "data": {
      "text/html": [
       "<div>\n",
       "<style scoped>\n",
       "    .dataframe tbody tr th:only-of-type {\n",
       "        vertical-align: middle;\n",
       "    }\n",
       "\n",
       "    .dataframe tbody tr th {\n",
       "        vertical-align: top;\n",
       "    }\n",
       "\n",
       "    .dataframe thead th {\n",
       "        text-align: right;\n",
       "    }\n",
       "</style>\n",
       "<table border=\"1\" class=\"dataframe\">\n",
       "  <thead>\n",
       "    <tr style=\"text-align: right;\">\n",
       "      <th></th>\n",
       "      <th>juego</th>\n",
       "      <th>Developer</th>\n",
       "      <th>Genre(s)</th>\n",
       "      <th># of players</th>\n",
       "      <th>Rating</th>\n",
       "    </tr>\n",
       "  </thead>\n",
       "  <tbody>\n",
       "    <tr>\n",
       "      <th>0</th>\n",
       "      <td>Injustice 2</td>\n",
       "      <td>QLOC</td>\n",
       "      <td>Action, Fighting, 2D</td>\n",
       "      <td>Online Multiplayer</td>\n",
       "      <td>T</td>\n",
       "    </tr>\n",
       "  </tbody>\n",
       "</table>\n",
       "</div>"
      ],
      "text/plain": [
       "         juego Developer               Genre(s)         # of players Rating\n",
       "0  Injustice 2      QLOC   Action, Fighting, 2D   Online Multiplayer      T"
      ]
     },
     "execution_count": 21,
     "metadata": {},
     "output_type": "execute_result"
    }
   ],
   "source": [
    "df.head(1)"
   ]
  },
  {
   "cell_type": "code",
   "execution_count": 22,
   "metadata": {},
   "outputs": [
    {
     "data": {
      "text/html": [
       "<div>\n",
       "<style scoped>\n",
       "    .dataframe tbody tr th:only-of-type {\n",
       "        vertical-align: middle;\n",
       "    }\n",
       "\n",
       "    .dataframe tbody tr th {\n",
       "        vertical-align: top;\n",
       "    }\n",
       "\n",
       "    .dataframe thead th {\n",
       "        text-align: right;\n",
       "    }\n",
       "</style>\n",
       "<table border=\"1\" class=\"dataframe\">\n",
       "  <thead>\n",
       "    <tr style=\"text-align: right;\">\n",
       "      <th></th>\n",
       "      <th>juego</th>\n",
       "      <th>Genre(s)</th>\n",
       "    </tr>\n",
       "  </thead>\n",
       "  <tbody>\n",
       "    <tr>\n",
       "      <th>0</th>\n",
       "      <td>Injustice 2</td>\n",
       "      <td>Action, Fighting, 2D</td>\n",
       "    </tr>\n",
       "    <tr>\n",
       "      <th>1</th>\n",
       "      <td>Saints Row</td>\n",
       "      <td>Action Adventure, Open-World</td>\n",
       "    </tr>\n",
       "    <tr>\n",
       "      <th>2</th>\n",
       "      <td>Shenmue III</td>\n",
       "      <td>Action Adventure, Open-World</td>\n",
       "    </tr>\n",
       "    <tr>\n",
       "      <th>3</th>\n",
       "      <td>L.A. Noire</td>\n",
       "      <td>NaN</td>\n",
       "    </tr>\n",
       "    <tr>\n",
       "      <th>4</th>\n",
       "      <td>Assassin's Creed Valhalla</td>\n",
       "      <td>Action Adventure, Open-World</td>\n",
       "    </tr>\n",
       "    <tr>\n",
       "      <th>5</th>\n",
       "      <td>Monster Hunter Generations</td>\n",
       "      <td>NaN</td>\n",
       "    </tr>\n",
       "    <tr>\n",
       "      <th>6</th>\n",
       "      <td>Planet Coaster</td>\n",
       "      <td>Strategy, Management, Business / Tycoon</td>\n",
       "    </tr>\n",
       "    <tr>\n",
       "      <th>7</th>\n",
       "      <td>DOOM Eternal</td>\n",
       "      <td>Action, Shooter, First-Person, Arcade</td>\n",
       "    </tr>\n",
       "    <tr>\n",
       "      <th>8</th>\n",
       "      <td>NBA 2K20</td>\n",
       "      <td>NaN</td>\n",
       "    </tr>\n",
       "    <tr>\n",
       "      <th>9</th>\n",
       "      <td>Madden NFL 20</td>\n",
       "      <td>Action, Sports, General, Team, Football, Sim</td>\n",
       "    </tr>\n",
       "  </tbody>\n",
       "</table>\n",
       "</div>"
      ],
      "text/plain": [
       "                        juego                                       Genre(s)\n",
       "0                 Injustice 2                           Action, Fighting, 2D\n",
       "1                  Saints Row                   Action Adventure, Open-World\n",
       "2                 Shenmue III                   Action Adventure, Open-World\n",
       "3                  L.A. Noire                                            NaN\n",
       "4   Assassin's Creed Valhalla                   Action Adventure, Open-World\n",
       "5  Monster Hunter Generations                                            NaN\n",
       "6              Planet Coaster        Strategy, Management, Business / Tycoon\n",
       "7                DOOM Eternal          Action, Shooter, First-Person, Arcade\n",
       "8                    NBA 2K20                                            NaN\n",
       "9               Madden NFL 20   Action, Sports, General, Team, Football, Sim"
      ]
     },
     "execution_count": 22,
     "metadata": {},
     "output_type": "execute_result"
    }
   ],
   "source": [
    "df_generos = df[[\"juego\", \"Genre(s)\"]]\n",
    "df_generos.head(10)"
   ]
  },
  {
   "cell_type": "code",
   "execution_count": 23,
   "metadata": {},
   "outputs": [
    {
     "data": {
      "text/html": [
       "<div>\n",
       "<style scoped>\n",
       "    .dataframe tbody tr th:only-of-type {\n",
       "        vertical-align: middle;\n",
       "    }\n",
       "\n",
       "    .dataframe tbody tr th {\n",
       "        vertical-align: top;\n",
       "    }\n",
       "\n",
       "    .dataframe thead th {\n",
       "        text-align: right;\n",
       "    }\n",
       "</style>\n",
       "<table border=\"1\" class=\"dataframe\">\n",
       "  <thead>\n",
       "    <tr style=\"text-align: right;\">\n",
       "      <th></th>\n",
       "      <th>juego</th>\n",
       "      <th>Developer</th>\n",
       "      <th># of players</th>\n",
       "      <th>Rating</th>\n",
       "    </tr>\n",
       "  </thead>\n",
       "  <tbody>\n",
       "    <tr>\n",
       "      <th>0</th>\n",
       "      <td>Injustice 2</td>\n",
       "      <td>QLOC</td>\n",
       "      <td>Online Multiplayer</td>\n",
       "      <td>T</td>\n",
       "    </tr>\n",
       "  </tbody>\n",
       "</table>\n",
       "</div>"
      ],
      "text/plain": [
       "         juego Developer         # of players Rating\n",
       "0  Injustice 2      QLOC   Online Multiplayer      T"
      ]
     },
     "execution_count": 23,
     "metadata": {},
     "output_type": "execute_result"
    }
   ],
   "source": [
    "df_info = df[[\"juego\", \"Developer\", \"# of players\", \"Rating\"]]\n",
    "df_info.head(1)"
   ]
  },
  {
   "cell_type": "code",
   "execution_count": 24,
   "metadata": {},
   "outputs": [],
   "source": [
    "df_generos[\"Genre(s)\"] = df_generos[\"Genre(s)\"].str.split(\",\")"
   ]
  },
  {
   "cell_type": "code",
   "execution_count": 37,
   "metadata": {},
   "outputs": [
    {
     "data": {
      "text/html": [
       "<div>\n",
       "<style scoped>\n",
       "    .dataframe tbody tr th:only-of-type {\n",
       "        vertical-align: middle;\n",
       "    }\n",
       "\n",
       "    .dataframe tbody tr th {\n",
       "        vertical-align: top;\n",
       "    }\n",
       "\n",
       "    .dataframe thead th {\n",
       "        text-align: right;\n",
       "    }\n",
       "</style>\n",
       "<table border=\"1\" class=\"dataframe\">\n",
       "  <thead>\n",
       "    <tr style=\"text-align: right;\">\n",
       "      <th></th>\n",
       "      <th>juego</th>\n",
       "      <th>Genre(s)</th>\n",
       "    </tr>\n",
       "  </thead>\n",
       "  <tbody>\n",
       "    <tr>\n",
       "      <th>0</th>\n",
       "      <td>Injustice 2</td>\n",
       "      <td>Action</td>\n",
       "    </tr>\n",
       "    <tr>\n",
       "      <th>0</th>\n",
       "      <td>Injustice 2</td>\n",
       "      <td>Fighting</td>\n",
       "    </tr>\n",
       "    <tr>\n",
       "      <th>0</th>\n",
       "      <td>Injustice 2</td>\n",
       "      <td>2D</td>\n",
       "    </tr>\n",
       "    <tr>\n",
       "      <th>1</th>\n",
       "      <td>Saints Row</td>\n",
       "      <td>Action Adventure</td>\n",
       "    </tr>\n",
       "    <tr>\n",
       "      <th>1</th>\n",
       "      <td>Saints Row</td>\n",
       "      <td>Open-World</td>\n",
       "    </tr>\n",
       "  </tbody>\n",
       "</table>\n",
       "</div>"
      ],
      "text/plain": [
       "         juego          Genre(s)\n",
       "0  Injustice 2            Action\n",
       "0  Injustice 2          Fighting\n",
       "0  Injustice 2                2D\n",
       "1   Saints Row  Action Adventure\n",
       "1   Saints Row        Open-World"
      ]
     },
     "execution_count": 37,
     "metadata": {},
     "output_type": "execute_result"
    }
   ],
   "source": [
    "df_generos = df_generos.explode(\"Genre(s)\")\n",
    "df_generos[\"Genre(s)\"] = df_generos[\"Genre(s)\"].str.strip()\n",
    "df_generos.head()"
   ]
  },
  {
   "cell_type": "code",
   "execution_count": 38,
   "metadata": {},
   "outputs": [
    {
     "name": "stdout",
     "output_type": "stream",
     "text": [
      "<class 'pandas.core.frame.DataFrame'>\n",
      "Int64Index: 1384 entries, 0 to 521\n",
      "Data columns (total 2 columns):\n",
      " #   Column    Non-Null Count  Dtype \n",
      "---  ------    --------------  ----- \n",
      " 0   juego     1384 non-null   object\n",
      " 1   Genre(s)  1384 non-null   object\n",
      "dtypes: object(2)\n",
      "memory usage: 32.4+ KB\n"
     ]
    }
   ],
   "source": [
    "df_generos.info()"
   ]
  },
  {
   "cell_type": "code",
   "execution_count": 39,
   "metadata": {},
   "outputs": [],
   "source": [
    "df_generos.dropna(inplace=True)"
   ]
  },
  {
   "cell_type": "code",
   "execution_count": 40,
   "metadata": {},
   "outputs": [
    {
     "data": {
      "text/html": [
       "<div>\n",
       "<style scoped>\n",
       "    .dataframe tbody tr th:only-of-type {\n",
       "        vertical-align: middle;\n",
       "    }\n",
       "\n",
       "    .dataframe tbody tr th {\n",
       "        vertical-align: top;\n",
       "    }\n",
       "\n",
       "    .dataframe thead th {\n",
       "        text-align: right;\n",
       "    }\n",
       "</style>\n",
       "<table border=\"1\" class=\"dataframe\">\n",
       "  <thead>\n",
       "    <tr style=\"text-align: right;\">\n",
       "      <th></th>\n",
       "      <th>count</th>\n",
       "      <th>unique</th>\n",
       "      <th>top</th>\n",
       "      <th>freq</th>\n",
       "    </tr>\n",
       "  </thead>\n",
       "  <tbody>\n",
       "    <tr>\n",
       "      <th>juego</th>\n",
       "      <td>1384</td>\n",
       "      <td>372</td>\n",
       "      <td>World of Tanks</td>\n",
       "      <td>12</td>\n",
       "    </tr>\n",
       "    <tr>\n",
       "      <th>Genre(s)</th>\n",
       "      <td>1384</td>\n",
       "      <td>86</td>\n",
       "      <td>Action</td>\n",
       "      <td>126</td>\n",
       "    </tr>\n",
       "  </tbody>\n",
       "</table>\n",
       "</div>"
      ],
      "text/plain": [
       "         count unique             top freq\n",
       "juego     1384    372  World of Tanks   12\n",
       "Genre(s)  1384     86          Action  126"
      ]
     },
     "execution_count": 40,
     "metadata": {},
     "output_type": "execute_result"
    }
   ],
   "source": [
    "df_generos.describe().T"
   ]
  },
  {
   "cell_type": "code",
   "execution_count": 41,
   "metadata": {},
   "outputs": [
    {
     "data": {
      "text/plain": [
       "(1384, 2)"
      ]
     },
     "execution_count": 41,
     "metadata": {},
     "output_type": "execute_result"
    }
   ],
   "source": [
    "df_generos.shape"
   ]
  },
  {
   "cell_type": "code",
   "execution_count": 42,
   "metadata": {},
   "outputs": [],
   "source": [
    "df_generos.to_csv(\"../data/generos/generos.csv\")"
   ]
  },
  {
   "cell_type": "code",
   "execution_count": 542,
   "metadata": {},
   "outputs": [
    {
     "name": "stdout",
     "output_type": "stream",
     "text": [
      "<class 'pandas.core.frame.DataFrame'>\n",
      "RangeIndex: 522 entries, 0 to 521\n",
      "Data columns (total 4 columns):\n",
      " #   Column        Non-Null Count  Dtype \n",
      "---  ------        --------------  ----- \n",
      " 0   juego         522 non-null    object\n",
      " 1   Developer     372 non-null    object\n",
      " 2   # of players  320 non-null    object\n",
      " 3   Rating        310 non-null    object\n",
      "dtypes: object(4)\n",
      "memory usage: 16.4+ KB\n"
     ]
    }
   ],
   "source": [
    "df_info.info()"
   ]
  },
  {
   "cell_type": "code",
   "execution_count": 543,
   "metadata": {},
   "outputs": [
    {
     "data": {
      "text/html": [
       "<div>\n",
       "<style scoped>\n",
       "    .dataframe tbody tr th:only-of-type {\n",
       "        vertical-align: middle;\n",
       "    }\n",
       "\n",
       "    .dataframe tbody tr th {\n",
       "        vertical-align: top;\n",
       "    }\n",
       "\n",
       "    .dataframe thead th {\n",
       "        text-align: right;\n",
       "    }\n",
       "</style>\n",
       "<table border=\"1\" class=\"dataframe\">\n",
       "  <thead>\n",
       "    <tr style=\"text-align: right;\">\n",
       "      <th></th>\n",
       "      <th>count</th>\n",
       "      <th>unique</th>\n",
       "      <th>top</th>\n",
       "      <th>freq</th>\n",
       "    </tr>\n",
       "  </thead>\n",
       "  <tbody>\n",
       "    <tr>\n",
       "      <th>juego</th>\n",
       "      <td>522</td>\n",
       "      <td>522</td>\n",
       "      <td>Injustice 2</td>\n",
       "      <td>1</td>\n",
       "    </tr>\n",
       "    <tr>\n",
       "      <th>Developer</th>\n",
       "      <td>372</td>\n",
       "      <td>257</td>\n",
       "      <td>Capcom</td>\n",
       "      <td>9</td>\n",
       "    </tr>\n",
       "    <tr>\n",
       "      <th># of players</th>\n",
       "      <td>320</td>\n",
       "      <td>22</td>\n",
       "      <td>No Online Multiplayer</td>\n",
       "      <td>153</td>\n",
       "    </tr>\n",
       "    <tr>\n",
       "      <th>Rating</th>\n",
       "      <td>310</td>\n",
       "      <td>4</td>\n",
       "      <td>M</td>\n",
       "      <td>166</td>\n",
       "    </tr>\n",
       "  </tbody>\n",
       "</table>\n",
       "</div>"
      ],
      "text/plain": [
       "             count unique                     top freq\n",
       "juego          522    522             Injustice 2    1\n",
       "Developer      372    257                  Capcom    9\n",
       "# of players   320     22   No Online Multiplayer  153\n",
       "Rating         310      4                       M  166"
      ]
     },
     "execution_count": 543,
     "metadata": {},
     "output_type": "execute_result"
    }
   ],
   "source": [
    "df_info.describe().T"
   ]
  },
  {
   "cell_type": "code",
   "execution_count": 547,
   "metadata": {},
   "outputs": [],
   "source": [
    "df_info.dropna(subset=[\"Developer\", \"# of players\", \"Rating\"], how=\"all\", inplace=True)"
   ]
  },
  {
   "cell_type": "code",
   "execution_count": 548,
   "metadata": {},
   "outputs": [],
   "source": [
    "df_info.to_csv(\"info_general.csv\")"
   ]
  }
 ],
 "metadata": {
  "kernelspec": {
   "display_name": "Ironhack",
   "language": "python",
   "name": "python3"
  },
  "language_info": {
   "codemirror_mode": {
    "name": "ipython",
    "version": 3
   },
   "file_extension": ".py",
   "mimetype": "text/x-python",
   "name": "python",
   "nbconvert_exporter": "python",
   "pygments_lexer": "ipython3",
   "version": "3.9.13"
  },
  "orig_nbformat": 4,
  "vscode": {
   "interpreter": {
    "hash": "56a77335740ad1a046e88086f7afa474712daa7d9e49c7b8909a7efaca136dcd"
   }
  }
 },
 "nbformat": 4,
 "nbformat_minor": 2
}
