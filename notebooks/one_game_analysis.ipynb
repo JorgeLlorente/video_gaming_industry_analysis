{
 "cells": [
  {
   "cell_type": "code",
   "execution_count": 1,
   "metadata": {},
   "outputs": [],
   "source": [
    "import pandas as pd\n",
    "import numpy as np\n",
    "import matplotlib.pyplot as plt\n",
    "import seaborn as sns\n",
    "import plotly.express as px\n",
    "import datetime\n",
    "import sqlalchemy as alch\n",
    "from getpass import getpass\n",
    "import calendar\n",
    "import pickle\n",
    "\n",
    "import sys\n",
    "sys.path.append(\"../\")\n",
    "\n",
    "import src.support as sp\n",
    "\n",
    "import os\n",
    "from dotenv import load_dotenv\n"
   ]
  },
  {
   "cell_type": "code",
   "execution_count": 2,
   "metadata": {},
   "outputs": [
    {
     "data": {
      "text/plain": [
       "True"
      ]
     },
     "execution_count": 2,
     "metadata": {},
     "output_type": "execute_result"
    }
   ],
   "source": [
    "load_dotenv()"
   ]
  },
  {
   "attachments": {},
   "cell_type": "markdown",
   "metadata": {},
   "source": [
    "## Is this game dying?"
   ]
  },
  {
   "attachments": {},
   "cell_type": "markdown",
   "metadata": {},
   "source": [
    "### General Analysis"
   ]
  },
  {
   "cell_type": "code",
   "execution_count": 3,
   "metadata": {},
   "outputs": [],
   "source": [
    "# abrimos el pickle de los actores más representado\n",
    "with open('../data/top10_games.pickle', 'rb') as game:\n",
    "    games = pickle.load(game)"
   ]
  },
  {
   "cell_type": "code",
   "execution_count": 4,
   "metadata": {},
   "outputs": [
    {
     "name": "stdout",
     "output_type": "stream",
     "text": [
      "['VALORANT', 'League of Legends', 'Fortnite', 'Grand Theft Auto V', 'Call of Duty: Warzone', 'Counter-Strike: Global Offensive', 'Dota 2', 'Minecraft', 'FIFA 20', 'World of Warcraft', 'Apex Legends']\n"
     ]
    }
   ],
   "source": [
    "print(games)"
   ]
  },
  {
   "cell_type": "code",
   "execution_count": 6,
   "metadata": {},
   "outputs": [],
   "source": [
    "df_tourneys = sp.select_sql_table(\"torneos\")\n",
    "# df_tourneys[\"fecha\"] = pd.to_datetime(df_tourneys[\"fecha\"])\n",
    "\n",
    "df_youtube = sp.select_sql_table(\"youtube\")\n",
    "\n",
    "df_twitch = sp.select_sql_table(\"twitch\")\n",
    "df_twitch[\"fecha\"] = pd.to_datetime(df_twitch[\"fecha\"])\n",
    "# df_twitch[\"watch_time_hours\"] = df_twitch[\"watch_time_hours\"].astype(\"float\")\n",
    "\n",
    "df_genres = sp.select_sql_table(\"genres\")\n",
    "\n",
    "df_platforms = sp.select_sql_table(\"platforms\")\n",
    "\n",
    "df_info_general = sp.select_sql_table(\"info_general\")\n",
    "\n",
    "df_videogames_unique = sp.select_sql_table(\"videogames_unique\")"
   ]
  },
  {
   "attachments": {},
   "cell_type": "markdown",
   "metadata": {},
   "source": [
    "#### Tourneys"
   ]
  },
  {
   "cell_type": "code",
   "execution_count": 21,
   "metadata": {},
   "outputs": [],
   "source": [
    "def data_visualization():\n",
    "    # Defining the input table\n",
    "    juego = input(f\"Choose a game from the list: \")\n",
    "    table = input(\"Choose a table from MySQL: \")\n",
    "    df = sp.select_sql_table(table)\n",
    "\n",
    "    # Creating df for comparisons\n",
    "    columns = df.columns\n",
    "    data = str.split(input(f\"Choose the data you want to analyze ({df.columns}): \"), \", \")\n",
    "    df_all = df.groupby(by=df[\"fecha\"].dt.year)[data].mean().reset_index()\n",
    "    df_game = df[df[\"videogame_id\"] == juego]\n",
    "    df_game = df_game.groupby(by=df_game[\"fecha\"].dt.year)[data].mean().reset_index()\n",
    "\n",
    "    # Plotting\n",
    "    sp.plotting(df_game,df_all,juego)"
   ]
  }
 ],
 "metadata": {
  "kernelspec": {
   "display_name": "Ironhack",
   "language": "python",
   "name": "python3"
  },
  "language_info": {
   "codemirror_mode": {
    "name": "ipython",
    "version": 3
   },
   "file_extension": ".py",
   "mimetype": "text/x-python",
   "name": "python",
   "nbconvert_exporter": "python",
   "pygments_lexer": "ipython3",
   "version": "3.9.13"
  },
  "orig_nbformat": 4,
  "vscode": {
   "interpreter": {
    "hash": "56a77335740ad1a046e88086f7afa474712daa7d9e49c7b8909a7efaca136dcd"
   }
  }
 },
 "nbformat": 4,
 "nbformat_minor": 2
}
