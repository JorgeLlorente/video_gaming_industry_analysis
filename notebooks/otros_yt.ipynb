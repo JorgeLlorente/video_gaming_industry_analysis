{
 "cells": [
  {
   "cell_type": "code",
   "execution_count": null,
   "metadata": {},
   "outputs": [],
   "source": [
    "# Nos quitamos 1400 videos que no tienen fecha o son shorts.\n",
    "\n",
    "urls2 = []\n",
    "for url in urls:\n",
    "    if \"hace\" not in url or \"short\" in url or \"Short\" in url:\n",
    "        pass\n",
    "    else:\n",
    "        urls2.append(url.rsplit(\" hace \", 1))"
   ]
  },
  {
   "cell_type": "code",
   "execution_count": null,
   "metadata": {},
   "outputs": [],
   "source": [
    "dicc = {\"titulo\": [],\n",
    "        \"canal\": [],\n",
    "        \"años\": [],\n",
    "        \"visualizaciones\": []\n",
    "        }\n",
    "    \n",
    "for url2 in urls2:\n",
    "    dicc[\"titulo\"].append(url2[0].rsplit(\" de \",1)[0])\n",
    "    dicc[\"canal\"].append(url2[0].rsplit(\" de \",1)[1])\n",
    "    dicc[\"años\"].append(url2[1].split(\" \")[:2])\n",
    "    dicc[\"visualizaciones\"].append(reduce(operator.add, url2[1].split(\" \")[-2]))"
   ]
  },
  {
   "cell_type": "code",
   "execution_count": null,
   "metadata": {},
   "outputs": [],
   "source": [
    "df_data = pd.DataFrame(dicc)\n",
    "df_data.head()"
   ]
  },
  {
   "cell_type": "code",
   "execution_count": null,
   "metadata": {},
   "outputs": [],
   "source": [
    "df_new = pd.DataFrame(df_data[\"años\"].to_list(), columns=[\"medida\", \"tiempo\"])\n",
    "df_new.head(2)"
   ]
  },
  {
   "cell_type": "code",
   "execution_count": null,
   "metadata": {},
   "outputs": [],
   "source": [
    "df_data = pd.concat([df_data, df_new], axis=1)"
   ]
  },
  {
   "cell_type": "code",
   "execution_count": null,
   "metadata": {},
   "outputs": [],
   "source": [
    "df_data.drop([\"años\"], axis=1, inplace=True)\n",
    "df_data.head(2)"
   ]
  },
  {
   "cell_type": "code",
   "execution_count": null,
   "metadata": {},
   "outputs": [],
   "source": [
    "df_data[\"visualizaciones\"] = df_data[\"visualizaciones\"].apply(lambda x: x.replace(\".\",\"\"))"
   ]
  },
  {
   "cell_type": "code",
   "execution_count": null,
   "metadata": {},
   "outputs": [],
   "source": [
    "df_data[\"visualizaciones\"] = df_data[\"visualizaciones\"].astype(int)\n",
    "df_data[\"medida\"] = df_data[\"medida\"].astype(int)"
   ]
  },
  {
   "cell_type": "code",
   "execution_count": null,
   "metadata": {},
   "outputs": [],
   "source": [
    "dicc = {}\n",
    "lista1 = list(range(1,11))\n",
    "lista1.reverse()\n",
    "lista2 = list(range(2012,2023))\n",
    "\n",
    "for i, j in zip(lista1, lista2):\n",
    "    dicc[i] = j\n",
    "dicc"
   ]
  },
  {
   "cell_type": "code",
   "execution_count": null,
   "metadata": {},
   "outputs": [],
   "source": [
    "def years(numero):\n",
    "    dicc = {}\n",
    "    lista1 = list(range(1,11))\n",
    "    lista1.reverse()\n",
    "    lista2 = list(range(2012,2023))\n",
    "    for i, j in zip(lista1, lista2):\n",
    "        dicc[i] = j\n",
    "    if numero < 11:\n",
    "        return dicc[numero]\n",
    "    else:\n",
    "        return 2022"
   ]
  },
  {
   "cell_type": "code",
   "execution_count": null,
   "metadata": {},
   "outputs": [],
   "source": [
    "df_data[\"año\"] = np.where((df_data[\"tiempo\"] == \"años\") | (df_data[\"tiempo\"] == \"año\"),\n",
    "                 df_data[\"medida\"].apply(years), 2022)"
   ]
  },
  {
   "cell_type": "code",
   "execution_count": null,
   "metadata": {},
   "outputs": [],
   "source": [
    "juegos = df_fechas[\"name\"].to_list()"
   ]
  },
  {
   "cell_type": "code",
   "execution_count": null,
   "metadata": {},
   "outputs": [],
   "source": [
    "juegos2 = []\n",
    "for juego in juegos:\n",
    "    if \"-\" in juego:\n",
    "        juegos2.append(juego.replace(\":\", \"\").replace(\"-\",\" \"))\n",
    "    elif \":\" in juego:\n",
    "        juegos2.append(juego.replace(\":\", \"\"))"
   ]
  },
  {
   "cell_type": "code",
   "execution_count": null,
   "metadata": {},
   "outputs": [],
   "source": [
    "juegos = juegos + juegos2 + [\"Counter Strike: Global Offensive\", \"World Of Warcraft\", \"Call Of Duty: Warzone\", \n",
    "                             \"Call Of Duty: Warzone\", \"League Of Legends\"]"
   ]
  },
  {
   "cell_type": "code",
   "execution_count": null,
   "metadata": {},
   "outputs": [],
   "source": [
    "def videojuego(titulo):\n",
    "    for juego in juegos:\n",
    "        if fuzz.ratio(juego, titulo) > 30 or juego in titulo or juego.lower() in titulo or juego.upper() in titulo:\n",
    "            return juego\n",
    "        else:\n",
    "            pass"
   ]
  },
  {
   "cell_type": "code",
   "execution_count": null,
   "metadata": {},
   "outputs": [],
   "source": [
    "df_data[\"videojuego\"] = df_data[\"titulo\"].apply(videojuego)"
   ]
  },
  {
   "cell_type": "code",
   "execution_count": null,
   "metadata": {},
   "outputs": [],
   "source": [
    "df_data = df_data.dropna(axis=0)"
   ]
  }
 ],
 "metadata": {
  "kernelspec": {
   "display_name": "Python 3",
   "language": "python",
   "name": "python3"
  },
  "language_info": {
   "codemirror_mode": {
    "name": "ipython",
    "version": 3
   },
   "file_extension": ".py",
   "mimetype": "text/x-python",
   "name": "python",
   "nbconvert_exporter": "python",
   "pygments_lexer": "ipython3",
   "version": "3.8.3 (tags/v3.8.3:6f8c832, May 13 2020, 22:20:19) [MSC v.1925 32 bit (Intel)]"
  },
  "orig_nbformat": 4,
  "vscode": {
   "interpreter": {
    "hash": "fc2b89bdc76d3a68df2c0b830556ac2ba9904f7ae6df5189b33e5dace150513b"
   }
  }
 },
 "nbformat": 4,
 "nbformat_minor": 2
}
