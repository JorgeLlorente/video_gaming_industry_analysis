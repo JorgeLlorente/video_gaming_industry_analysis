{
 "cells": [
  {
   "cell_type": "code",
   "execution_count": 2,
   "metadata": {},
   "outputs": [],
   "source": [
    "import requests\n",
    "import pandas as pd\n",
    "import numpy as np\n",
    "import re\n",
    "from bs4 import BeautifulSoup"
   ]
  },
  {
   "attachments": {},
   "cell_type": "markdown",
   "metadata": {},
   "source": [
    "#### Web Scraping"
   ]
  },
  {
   "attachments": {},
   "cell_type": "markdown",
   "metadata": {},
   "source": [
    "In this Jupyter, we are going to Web Scrape Esportsearnings web page to obtain all the tourneys played\n",
    "in the last 10 years."
   ]
  },
  {
   "cell_type": "code",
   "execution_count": 3,
   "metadata": {},
   "outputs": [],
   "source": [
    "url = \"https://www.esportsearnings.com/history/2012-01/games\""
   ]
  },
  {
   "cell_type": "code",
   "execution_count": 4,
   "metadata": {},
   "outputs": [
    {
     "data": {
      "text/plain": [
       "200"
      ]
     },
     "execution_count": 4,
     "metadata": {},
     "output_type": "execute_result"
    }
   ],
   "source": [
    "res1 = requests.get(url)\n",
    "res1.status_code"
   ]
  },
  {
   "cell_type": "code",
   "execution_count": 5,
   "metadata": {},
   "outputs": [],
   "source": [
    "sopa = BeautifulSoup(res1.content, 'html.parser') "
   ]
  },
  {
   "cell_type": "code",
   "execution_count": 6,
   "metadata": {},
   "outputs": [],
   "source": [
    "raw_data = sopa.find_all(\"table\", {\"class\": \"detail_list_table\"})[0]"
   ]
  },
  {
   "cell_type": "code",
   "execution_count": 7,
   "metadata": {},
   "outputs": [
    {
     "data": {
      "text/plain": [
       "5"
      ]
     },
     "execution_count": 7,
     "metadata": {},
     "output_type": "execute_result"
    }
   ],
   "source": [
    "len(raw_data.find_all(\"tr\")[0].find_all(\"td\"))"
   ]
  },
  {
   "cell_type": "code",
   "execution_count": 8,
   "metadata": {},
   "outputs": [],
   "source": [
    "dicc = {\"posicion\": [],\n",
    "        \"juego\": [],\n",
    "        \"dinero\": [],\n",
    "        \"jugadores\": [],\n",
    "        \"torneos\": [],\n",
    "        \"fecha\": []\n",
    "        }\n",
    "\n",
    "for i in raw_data.find_all(\"tr\"):\n",
    "    dicc[\"posicion\"].append(i.find_all(\"td\")[0].getText())\n",
    "    dicc[\"juego\"].append(i.find_all(\"td\")[1].getText())\n",
    "    dicc[\"dinero\"].append(i.find_all(\"td\")[2].getText())\n",
    "    dicc[\"jugadores\"].append(i.find_all(\"td\")[3].getText())\n",
    "    dicc[\"torneos\"].append(i.find_all(\"td\")[4].getText())"
   ]
  },
  {
   "cell_type": "code",
   "execution_count": 10,
   "metadata": {},
   "outputs": [
    {
     "name": "stdout",
     "output_type": "stream",
     "text": [
      "https://www.esportsearnings.com/history/2012-01/games\n",
      "https://www.esportsearnings.com/history/2012-02/games\n",
      "https://www.esportsearnings.com/history/2012-03/games\n",
      "https://www.esportsearnings.com/history/2012-04/games\n",
      "https://www.esportsearnings.com/history/2012-05/games\n",
      "https://www.esportsearnings.com/history/2012-06/games\n",
      "https://www.esportsearnings.com/history/2012-07/games\n",
      "https://www.esportsearnings.com/history/2012-08/games\n",
      "https://www.esportsearnings.com/history/2012-09/games\n",
      "https://www.esportsearnings.com/history/2012-10/games\n",
      "https://www.esportsearnings.com/history/2012-11/games\n",
      "https://www.esportsearnings.com/history/2012-12/games\n",
      "https://www.esportsearnings.com/history/2013-01/games\n",
      "https://www.esportsearnings.com/history/2013-02/games\n",
      "https://www.esportsearnings.com/history/2013-03/games\n",
      "https://www.esportsearnings.com/history/2013-04/games\n",
      "https://www.esportsearnings.com/history/2013-05/games\n",
      "https://www.esportsearnings.com/history/2013-06/games\n",
      "https://www.esportsearnings.com/history/2013-07/games\n",
      "https://www.esportsearnings.com/history/2013-08/games\n",
      "https://www.esportsearnings.com/history/2013-09/games\n",
      "https://www.esportsearnings.com/history/2013-10/games\n",
      "https://www.esportsearnings.com/history/2013-11/games\n",
      "https://www.esportsearnings.com/history/2013-12/games\n",
      "https://www.esportsearnings.com/history/2014-01/games\n",
      "https://www.esportsearnings.com/history/2014-02/games\n",
      "https://www.esportsearnings.com/history/2014-03/games\n",
      "https://www.esportsearnings.com/history/2014-04/games\n",
      "https://www.esportsearnings.com/history/2014-05/games\n",
      "https://www.esportsearnings.com/history/2014-06/games\n",
      "https://www.esportsearnings.com/history/2014-07/games\n",
      "https://www.esportsearnings.com/history/2014-08/games\n",
      "https://www.esportsearnings.com/history/2014-09/games\n",
      "https://www.esportsearnings.com/history/2014-10/games\n",
      "https://www.esportsearnings.com/history/2014-11/games\n",
      "https://www.esportsearnings.com/history/2014-12/games\n",
      "https://www.esportsearnings.com/history/2015-01/games\n",
      "https://www.esportsearnings.com/history/2015-02/games\n",
      "https://www.esportsearnings.com/history/2015-03/games\n",
      "https://www.esportsearnings.com/history/2015-04/games\n",
      "https://www.esportsearnings.com/history/2015-05/games\n",
      "https://www.esportsearnings.com/history/2015-06/games\n",
      "https://www.esportsearnings.com/history/2015-07/games\n",
      "https://www.esportsearnings.com/history/2015-08/games\n",
      "https://www.esportsearnings.com/history/2015-09/games\n",
      "https://www.esportsearnings.com/history/2015-10/games\n",
      "https://www.esportsearnings.com/history/2015-11/games\n",
      "https://www.esportsearnings.com/history/2015-12/games\n",
      "https://www.esportsearnings.com/history/2016-01/games\n",
      "https://www.esportsearnings.com/history/2016-02/games\n",
      "https://www.esportsearnings.com/history/2016-03/games\n",
      "https://www.esportsearnings.com/history/2016-04/games\n",
      "https://www.esportsearnings.com/history/2016-05/games\n",
      "https://www.esportsearnings.com/history/2016-06/games\n",
      "https://www.esportsearnings.com/history/2016-07/games\n",
      "https://www.esportsearnings.com/history/2016-08/games\n",
      "https://www.esportsearnings.com/history/2016-09/games\n",
      "https://www.esportsearnings.com/history/2016-10/games\n",
      "https://www.esportsearnings.com/history/2016-11/games\n",
      "https://www.esportsearnings.com/history/2016-12/games\n",
      "https://www.esportsearnings.com/history/2017-01/games\n",
      "https://www.esportsearnings.com/history/2017-02/games\n",
      "https://www.esportsearnings.com/history/2017-03/games\n",
      "https://www.esportsearnings.com/history/2017-04/games\n",
      "https://www.esportsearnings.com/history/2017-05/games\n",
      "https://www.esportsearnings.com/history/2017-06/games\n",
      "https://www.esportsearnings.com/history/2017-07/games\n",
      "https://www.esportsearnings.com/history/2017-08/games\n",
      "https://www.esportsearnings.com/history/2017-09/games\n",
      "https://www.esportsearnings.com/history/2017-10/games\n",
      "https://www.esportsearnings.com/history/2017-11/games\n",
      "https://www.esportsearnings.com/history/2017-12/games\n",
      "https://www.esportsearnings.com/history/2018-01/games\n",
      "https://www.esportsearnings.com/history/2018-02/games\n",
      "https://www.esportsearnings.com/history/2018-03/games\n",
      "https://www.esportsearnings.com/history/2018-04/games\n",
      "https://www.esportsearnings.com/history/2018-05/games\n",
      "https://www.esportsearnings.com/history/2018-06/games\n",
      "https://www.esportsearnings.com/history/2018-07/games\n",
      "https://www.esportsearnings.com/history/2018-08/games\n",
      "https://www.esportsearnings.com/history/2018-09/games\n",
      "https://www.esportsearnings.com/history/2018-10/games\n",
      "https://www.esportsearnings.com/history/2018-11/games\n",
      "https://www.esportsearnings.com/history/2018-12/games\n",
      "https://www.esportsearnings.com/history/2019-01/games\n",
      "https://www.esportsearnings.com/history/2019-02/games\n",
      "https://www.esportsearnings.com/history/2019-03/games\n",
      "https://www.esportsearnings.com/history/2019-04/games\n",
      "https://www.esportsearnings.com/history/2019-05/games\n",
      "https://www.esportsearnings.com/history/2019-06/games\n",
      "https://www.esportsearnings.com/history/2019-07/games\n",
      "https://www.esportsearnings.com/history/2019-08/games\n",
      "https://www.esportsearnings.com/history/2019-09/games\n",
      "https://www.esportsearnings.com/history/2019-10/games\n",
      "https://www.esportsearnings.com/history/2019-11/games\n",
      "https://www.esportsearnings.com/history/2019-12/games\n",
      "https://www.esportsearnings.com/history/2020-01/games\n",
      "https://www.esportsearnings.com/history/2020-02/games\n",
      "https://www.esportsearnings.com/history/2020-03/games\n",
      "https://www.esportsearnings.com/history/2020-04/games\n",
      "https://www.esportsearnings.com/history/2020-05/games\n",
      "https://www.esportsearnings.com/history/2020-06/games\n",
      "https://www.esportsearnings.com/history/2020-07/games\n",
      "https://www.esportsearnings.com/history/2020-08/games\n",
      "https://www.esportsearnings.com/history/2020-09/games\n",
      "https://www.esportsearnings.com/history/2020-10/games\n",
      "https://www.esportsearnings.com/history/2020-11/games\n",
      "https://www.esportsearnings.com/history/2020-12/games\n",
      "https://www.esportsearnings.com/history/2021-01/games\n",
      "https://www.esportsearnings.com/history/2021-02/games\n",
      "https://www.esportsearnings.com/history/2021-03/games\n",
      "https://www.esportsearnings.com/history/2021-04/games\n",
      "https://www.esportsearnings.com/history/2021-05/games\n",
      "https://www.esportsearnings.com/history/2021-06/games\n",
      "https://www.esportsearnings.com/history/2021-07/games\n",
      "https://www.esportsearnings.com/history/2021-08/games\n",
      "https://www.esportsearnings.com/history/2021-09/games\n",
      "https://www.esportsearnings.com/history/2021-10/games\n",
      "https://www.esportsearnings.com/history/2021-11/games\n",
      "https://www.esportsearnings.com/history/2021-12/games\n",
      "https://www.esportsearnings.com/history/2022-01/games\n",
      "https://www.esportsearnings.com/history/2022-02/games\n",
      "https://www.esportsearnings.com/history/2022-03/games\n",
      "https://www.esportsearnings.com/history/2022-04/games\n",
      "https://www.esportsearnings.com/history/2022-05/games\n",
      "https://www.esportsearnings.com/history/2022-06/games\n",
      "https://www.esportsearnings.com/history/2022-07/games\n",
      "https://www.esportsearnings.com/history/2022-08/games\n",
      "https://www.esportsearnings.com/history/2022-09/games\n",
      "https://www.esportsearnings.com/history/2022-10/games\n",
      "https://www.esportsearnings.com/history/2022-11/games\n",
      "https://www.esportsearnings.com/history/2022-12/games\n"
     ]
    }
   ],
   "source": [
    "meses = [\"01\", \"02\", \"03\", \"04\", \"05\", \"06\", \"07\", \"08\", \"09\", \"10\", \"11\", \"12\"]\n",
    "años = list(range(2012,2023))\n",
    "dicc = {\"posicion\": [],\n",
    "        \"juego\": [],\n",
    "        \"dinero\": [],\n",
    "        \"jugadores\": [],\n",
    "        \"torneos\": [],\n",
    "        \"fecha\": []\n",
    "        }\n",
    "\n",
    "for año in años:\n",
    "    for mes in meses:\n",
    "        url = f\"https://www.esportsearnings.com/history/{año}-{mes}/games\"\n",
    "        print(url)\n",
    "        res1 = requests.get(url)\n",
    "        sopa = BeautifulSoup(res1.content, 'html.parser')\n",
    "        raw_data = sopa.find_all(\"table\", {\"class\": \"detail_list_table\"})[0]\n",
    "        for i in raw_data.find_all(\"tr\"):\n",
    "            dicc[\"posicion\"].append(i.find_all(\"td\")[0].getText())\n",
    "            dicc[\"juego\"].append(i.find_all(\"td\")[1].getText())\n",
    "            dicc[\"dinero\"].append(i.find_all(\"td\")[2].getText())\n",
    "            dicc[\"jugadores\"].append(i.find_all(\"td\")[3].getText())\n",
    "            dicc[\"torneos\"].append(i.find_all(\"td\")[4].getText())\n",
    "            dicc[\"fecha\"].append(f\"{mes}-{año}\")"
   ]
  },
  {
   "cell_type": "code",
   "execution_count": 12,
   "metadata": {},
   "outputs": [
    {
     "data": {
      "text/html": [
       "<div>\n",
       "<style scoped>\n",
       "    .dataframe tbody tr th:only-of-type {\n",
       "        vertical-align: middle;\n",
       "    }\n",
       "\n",
       "    .dataframe tbody tr th {\n",
       "        vertical-align: top;\n",
       "    }\n",
       "\n",
       "    .dataframe thead th {\n",
       "        text-align: right;\n",
       "    }\n",
       "</style>\n",
       "<table border=\"1\" class=\"dataframe\">\n",
       "  <thead>\n",
       "    <tr style=\"text-align: right;\">\n",
       "      <th></th>\n",
       "      <th>posicion</th>\n",
       "      <th>juego</th>\n",
       "      <th>dinero</th>\n",
       "      <th>jugadores</th>\n",
       "      <th>torneos</th>\n",
       "      <th>fecha</th>\n",
       "    </tr>\n",
       "  </thead>\n",
       "  <tbody>\n",
       "    <tr>\n",
       "      <th>0</th>\n",
       "      <td>1.</td>\n",
       "      <td>StarCraft II</td>\n",
       "      <td>$89,399.27</td>\n",
       "      <td>105 Players</td>\n",
       "      <td>53 Tournaments</td>\n",
       "      <td>01-2012</td>\n",
       "    </tr>\n",
       "    <tr>\n",
       "      <th>1</th>\n",
       "      <td>2.</td>\n",
       "      <td>League of Legends</td>\n",
       "      <td>$53,334.98</td>\n",
       "      <td>117 Players</td>\n",
       "      <td>22 Tournaments</td>\n",
       "      <td>01-2012</td>\n",
       "    </tr>\n",
       "    <tr>\n",
       "      <th>2</th>\n",
       "      <td>3.</td>\n",
       "      <td>Defense of the Ancients</td>\n",
       "      <td>$52,313.09</td>\n",
       "      <td>25 Players</td>\n",
       "      <td>2 Tournaments</td>\n",
       "      <td>01-2012</td>\n",
       "    </tr>\n",
       "  </tbody>\n",
       "</table>\n",
       "</div>"
      ],
      "text/plain": [
       "  posicion                    juego      dinero    jugadores         torneos  \\\n",
       "0       1.             StarCraft II  $89,399.27  105 Players  53 Tournaments   \n",
       "1       2.        League of Legends  $53,334.98  117 Players  22 Tournaments   \n",
       "2       3.  Defense of the Ancients  $52,313.09   25 Players   2 Tournaments   \n",
       "\n",
       "     fecha  \n",
       "0  01-2012  \n",
       "1  01-2012  \n",
       "2  01-2012  "
      ]
     },
     "execution_count": 12,
     "metadata": {},
     "output_type": "execute_result"
    }
   ],
   "source": [
    "df = pd.DataFrame(dicc)\n",
    "df.head(3)"
   ]
  },
  {
   "cell_type": "code",
   "execution_count": 16,
   "metadata": {},
   "outputs": [],
   "source": [
    "df.to_csv(\"Tourneys_raw\")"
   ]
  },
  {
   "attachments": {},
   "cell_type": "markdown",
   "metadata": {},
   "source": [
    "#### Data Wrangling & Data Cleaning"
   ]
  },
  {
   "cell_type": "code",
   "execution_count": 29,
   "metadata": {},
   "outputs": [],
   "source": [
    "df = pd.read_csv(\"Tourneys_raw\")\n",
    "df.drop([\"Unnamed: 0\"], axis=1,inplace=True)"
   ]
  },
  {
   "cell_type": "code",
   "execution_count": 18,
   "metadata": {},
   "outputs": [
    {
     "data": {
      "text/html": [
       "<div>\n",
       "<style scoped>\n",
       "    .dataframe tbody tr th:only-of-type {\n",
       "        vertical-align: middle;\n",
       "    }\n",
       "\n",
       "    .dataframe tbody tr th {\n",
       "        vertical-align: top;\n",
       "    }\n",
       "\n",
       "    .dataframe thead th {\n",
       "        text-align: right;\n",
       "    }\n",
       "</style>\n",
       "<table border=\"1\" class=\"dataframe\">\n",
       "  <thead>\n",
       "    <tr style=\"text-align: right;\">\n",
       "      <th></th>\n",
       "      <th>posicion</th>\n",
       "      <th>juego</th>\n",
       "      <th>dinero</th>\n",
       "      <th>jugadores</th>\n",
       "      <th>torneos</th>\n",
       "      <th>fecha</th>\n",
       "    </tr>\n",
       "  </thead>\n",
       "  <tbody>\n",
       "    <tr>\n",
       "      <th>0</th>\n",
       "      <td>1.0</td>\n",
       "      <td>StarCraft II</td>\n",
       "      <td>$89,399.27</td>\n",
       "      <td>105 Players</td>\n",
       "      <td>53 Tournaments</td>\n",
       "      <td>01-2012</td>\n",
       "    </tr>\n",
       "    <tr>\n",
       "      <th>1</th>\n",
       "      <td>2.0</td>\n",
       "      <td>League of Legends</td>\n",
       "      <td>$53,334.98</td>\n",
       "      <td>117 Players</td>\n",
       "      <td>22 Tournaments</td>\n",
       "      <td>01-2012</td>\n",
       "    </tr>\n",
       "    <tr>\n",
       "      <th>2</th>\n",
       "      <td>3.0</td>\n",
       "      <td>Defense of the Ancients</td>\n",
       "      <td>$52,313.09</td>\n",
       "      <td>25 Players</td>\n",
       "      <td>2 Tournaments</td>\n",
       "      <td>01-2012</td>\n",
       "    </tr>\n",
       "    <tr>\n",
       "      <th>3</th>\n",
       "      <td>4.0</td>\n",
       "      <td>Counter-Strike</td>\n",
       "      <td>$51,938.70</td>\n",
       "      <td>75 Players</td>\n",
       "      <td>4 Tournaments</td>\n",
       "      <td>01-2012</td>\n",
       "    </tr>\n",
       "    <tr>\n",
       "      <th>4</th>\n",
       "      <td>5.0</td>\n",
       "      <td>Heroes of Newerth</td>\n",
       "      <td>$34,345.67</td>\n",
       "      <td>16 Players</td>\n",
       "      <td>3 Tournaments</td>\n",
       "      <td>01-2012</td>\n",
       "    </tr>\n",
       "  </tbody>\n",
       "</table>\n",
       "</div>"
      ],
      "text/plain": [
       "   posicion                    juego      dinero    jugadores         torneos  \\\n",
       "0       1.0             StarCraft II  $89,399.27  105 Players  53 Tournaments   \n",
       "1       2.0        League of Legends  $53,334.98  117 Players  22 Tournaments   \n",
       "2       3.0  Defense of the Ancients  $52,313.09   25 Players   2 Tournaments   \n",
       "3       4.0           Counter-Strike  $51,938.70   75 Players   4 Tournaments   \n",
       "4       5.0        Heroes of Newerth  $34,345.67   16 Players   3 Tournaments   \n",
       "\n",
       "     fecha  \n",
       "0  01-2012  \n",
       "1  01-2012  \n",
       "2  01-2012  \n",
       "3  01-2012  \n",
       "4  01-2012  "
      ]
     },
     "execution_count": 18,
     "metadata": {},
     "output_type": "execute_result"
    }
   ],
   "source": [
    "df.head()"
   ]
  },
  {
   "cell_type": "code",
   "execution_count": 19,
   "metadata": {},
   "outputs": [
    {
     "name": "stdout",
     "output_type": "stream",
     "text": [
      "<class 'pandas.core.frame.DataFrame'>\n",
      "RangeIndex: 6898 entries, 0 to 6897\n",
      "Data columns (total 6 columns):\n",
      " #   Column     Non-Null Count  Dtype  \n",
      "---  ------     --------------  -----  \n",
      " 0   posicion   6898 non-null   float64\n",
      " 1   juego      6898 non-null   object \n",
      " 2   dinero     6898 non-null   object \n",
      " 3   jugadores  6898 non-null   object \n",
      " 4   torneos    6898 non-null   object \n",
      " 5   fecha      6898 non-null   object \n",
      "dtypes: float64(1), object(5)\n",
      "memory usage: 323.5+ KB\n"
     ]
    }
   ],
   "source": [
    "df.info()"
   ]
  },
  {
   "cell_type": "code",
   "execution_count": 30,
   "metadata": {},
   "outputs": [],
   "source": [
    "df[\"dinero\"] = df[\"dinero\"].str.lstrip(\"$\").str.replace(\",\",\"\").astype(\"float\")"
   ]
  },
  {
   "cell_type": "code",
   "execution_count": 49,
   "metadata": {},
   "outputs": [],
   "source": [
    "df[\"torneos\"] = df[\"torneos\"].str.rstrip(\" Tournaments\")\n",
    "df[\"torneos\"] = df[\"torneos\"].str.rstrip(\" Tournament\")\n",
    "df[\"torneos\"] = df[\"torneos\"].astype(\"int\")\n"
   ]
  },
  {
   "cell_type": "code",
   "execution_count": 42,
   "metadata": {},
   "outputs": [
    {
     "data": {
      "text/html": [
       "<div>\n",
       "<style scoped>\n",
       "    .dataframe tbody tr th:only-of-type {\n",
       "        vertical-align: middle;\n",
       "    }\n",
       "\n",
       "    .dataframe tbody tr th {\n",
       "        vertical-align: top;\n",
       "    }\n",
       "\n",
       "    .dataframe thead th {\n",
       "        text-align: right;\n",
       "    }\n",
       "</style>\n",
       "<table border=\"1\" class=\"dataframe\">\n",
       "  <thead>\n",
       "    <tr style=\"text-align: right;\">\n",
       "      <th></th>\n",
       "      <th>posicion</th>\n",
       "      <th>juego</th>\n",
       "      <th>dinero</th>\n",
       "      <th>jugadores</th>\n",
       "      <th>torneos</th>\n",
       "      <th>fecha</th>\n",
       "    </tr>\n",
       "  </thead>\n",
       "  <tbody>\n",
       "    <tr>\n",
       "      <th>0</th>\n",
       "      <td>1.0</td>\n",
       "      <td>StarCraft II</td>\n",
       "      <td>89399.27</td>\n",
       "      <td>105</td>\n",
       "      <td>53</td>\n",
       "      <td>2012-01-01</td>\n",
       "    </tr>\n",
       "  </tbody>\n",
       "</table>\n",
       "</div>"
      ],
      "text/plain": [
       "   posicion         juego    dinero jugadores torneos      fecha\n",
       "0       1.0  StarCraft II  89399.27       105      53 2012-01-01"
      ]
     },
     "execution_count": 42,
     "metadata": {},
     "output_type": "execute_result"
    }
   ],
   "source": [
    "df.head(1)"
   ]
  },
  {
   "cell_type": "code",
   "execution_count": 47,
   "metadata": {},
   "outputs": [],
   "source": [
    "df[\"jugadores\"] = df[\"jugadores\"].str.rstrip(\" Players\")\n",
    "df[\"jugadores\"] = df[\"jugadores\"].str.rstrip(\" Player\")\n",
    "df[\"jugadores\"] = df[\"jugadores\"].astype(\"int\")"
   ]
  },
  {
   "cell_type": "code",
   "execution_count": 43,
   "metadata": {},
   "outputs": [
    {
     "data": {
      "text/html": [
       "<div>\n",
       "<style scoped>\n",
       "    .dataframe tbody tr th:only-of-type {\n",
       "        vertical-align: middle;\n",
       "    }\n",
       "\n",
       "    .dataframe tbody tr th {\n",
       "        vertical-align: top;\n",
       "    }\n",
       "\n",
       "    .dataframe thead th {\n",
       "        text-align: right;\n",
       "    }\n",
       "</style>\n",
       "<table border=\"1\" class=\"dataframe\">\n",
       "  <thead>\n",
       "    <tr style=\"text-align: right;\">\n",
       "      <th></th>\n",
       "      <th>posicion</th>\n",
       "      <th>juego</th>\n",
       "      <th>dinero</th>\n",
       "      <th>jugadores</th>\n",
       "      <th>torneos</th>\n",
       "      <th>fecha</th>\n",
       "    </tr>\n",
       "  </thead>\n",
       "  <tbody>\n",
       "    <tr>\n",
       "      <th>0</th>\n",
       "      <td>1.0</td>\n",
       "      <td>StarCraft II</td>\n",
       "      <td>89399.27</td>\n",
       "      <td>105</td>\n",
       "      <td>53</td>\n",
       "      <td>2012-01-01</td>\n",
       "    </tr>\n",
       "  </tbody>\n",
       "</table>\n",
       "</div>"
      ],
      "text/plain": [
       "   posicion         juego    dinero jugadores torneos      fecha\n",
       "0       1.0  StarCraft II  89399.27       105      53 2012-01-01"
      ]
     },
     "execution_count": 43,
     "metadata": {},
     "output_type": "execute_result"
    }
   ],
   "source": [
    "df.head(1)"
   ]
  },
  {
   "cell_type": "code",
   "execution_count": 44,
   "metadata": {},
   "outputs": [],
   "source": [
    "df[\"fecha\"] = pd.to_datetime(df[\"fecha\"])"
   ]
  },
  {
   "cell_type": "code",
   "execution_count": 50,
   "metadata": {},
   "outputs": [
    {
     "name": "stdout",
     "output_type": "stream",
     "text": [
      "<class 'pandas.core.frame.DataFrame'>\n",
      "RangeIndex: 6898 entries, 0 to 6897\n",
      "Data columns (total 6 columns):\n",
      " #   Column     Non-Null Count  Dtype         \n",
      "---  ------     --------------  -----         \n",
      " 0   posicion   6898 non-null   float64       \n",
      " 1   juego      6898 non-null   object        \n",
      " 2   dinero     6898 non-null   float64       \n",
      " 3   jugadores  6898 non-null   int32         \n",
      " 4   torneos    6898 non-null   int32         \n",
      " 5   fecha      6898 non-null   datetime64[ns]\n",
      "dtypes: datetime64[ns](1), float64(2), int32(2), object(1)\n",
      "memory usage: 269.6+ KB\n"
     ]
    }
   ],
   "source": [
    "df.info()"
   ]
  },
  {
   "cell_type": "code",
   "execution_count": 51,
   "metadata": {},
   "outputs": [
    {
     "data": {
      "text/html": [
       "<div>\n",
       "<style scoped>\n",
       "    .dataframe tbody tr th:only-of-type {\n",
       "        vertical-align: middle;\n",
       "    }\n",
       "\n",
       "    .dataframe tbody tr th {\n",
       "        vertical-align: top;\n",
       "    }\n",
       "\n",
       "    .dataframe thead th {\n",
       "        text-align: right;\n",
       "    }\n",
       "</style>\n",
       "<table border=\"1\" class=\"dataframe\">\n",
       "  <thead>\n",
       "    <tr style=\"text-align: right;\">\n",
       "      <th></th>\n",
       "      <th>count</th>\n",
       "      <th>mean</th>\n",
       "      <th>std</th>\n",
       "      <th>min</th>\n",
       "      <th>25%</th>\n",
       "      <th>50%</th>\n",
       "      <th>75%</th>\n",
       "      <th>max</th>\n",
       "    </tr>\n",
       "  </thead>\n",
       "  <tbody>\n",
       "    <tr>\n",
       "      <th>posicion</th>\n",
       "      <td>6898.0</td>\n",
       "      <td>30.163671</td>\n",
       "      <td>2.042351e+01</td>\n",
       "      <td>1.0</td>\n",
       "      <td>14.0</td>\n",
       "      <td>27.000</td>\n",
       "      <td>44.0000</td>\n",
       "      <td>123.00</td>\n",
       "    </tr>\n",
       "    <tr>\n",
       "      <th>dinero</th>\n",
       "      <td>6898.0</td>\n",
       "      <td>205196.193778</td>\n",
       "      <td>1.145565e+06</td>\n",
       "      <td>0.0</td>\n",
       "      <td>924.0</td>\n",
       "      <td>9361.395</td>\n",
       "      <td>82594.9075</td>\n",
       "      <td>40138651.26</td>\n",
       "    </tr>\n",
       "    <tr>\n",
       "      <th>jugadores</th>\n",
       "      <td>6898.0</td>\n",
       "      <td>64.547550</td>\n",
       "      <td>1.365561e+02</td>\n",
       "      <td>0.0</td>\n",
       "      <td>6.0</td>\n",
       "      <td>17.000</td>\n",
       "      <td>59.0000</td>\n",
       "      <td>1719.00</td>\n",
       "    </tr>\n",
       "    <tr>\n",
       "      <th>torneos</th>\n",
       "      <td>6898.0</td>\n",
       "      <td>7.163671</td>\n",
       "      <td>1.282323e+01</td>\n",
       "      <td>1.0</td>\n",
       "      <td>1.0</td>\n",
       "      <td>2.000</td>\n",
       "      <td>7.0000</td>\n",
       "      <td>172.00</td>\n",
       "    </tr>\n",
       "  </tbody>\n",
       "</table>\n",
       "</div>"
      ],
      "text/plain": [
       "            count           mean           std  min    25%       50%  \\\n",
       "posicion   6898.0      30.163671  2.042351e+01  1.0   14.0    27.000   \n",
       "dinero     6898.0  205196.193778  1.145565e+06  0.0  924.0  9361.395   \n",
       "jugadores  6898.0      64.547550  1.365561e+02  0.0    6.0    17.000   \n",
       "torneos    6898.0       7.163671  1.282323e+01  1.0    1.0     2.000   \n",
       "\n",
       "                  75%          max  \n",
       "posicion      44.0000       123.00  \n",
       "dinero     82594.9075  40138651.26  \n",
       "jugadores     59.0000      1719.00  \n",
       "torneos        7.0000       172.00  "
      ]
     },
     "execution_count": 51,
     "metadata": {},
     "output_type": "execute_result"
    }
   ],
   "source": [
    "df.describe().T"
   ]
  },
  {
   "cell_type": "code",
   "execution_count": 52,
   "metadata": {},
   "outputs": [],
   "source": [
    "df.to_csv(\"Tourneys.csv\")"
   ]
  }
 ],
 "metadata": {
  "kernelspec": {
   "display_name": "Ironhack",
   "language": "python",
   "name": "python3"
  },
  "language_info": {
   "codemirror_mode": {
    "name": "ipython",
    "version": 3
   },
   "file_extension": ".py",
   "mimetype": "text/x-python",
   "name": "python",
   "nbconvert_exporter": "python",
   "pygments_lexer": "ipython3",
   "version": "3.9.13 (main, Oct 13 2022, 21:23:06) [MSC v.1916 64 bit (AMD64)]"
  },
  "orig_nbformat": 4,
  "vscode": {
   "interpreter": {
    "hash": "56a77335740ad1a046e88086f7afa474712daa7d9e49c7b8909a7efaca136dcd"
   }
  }
 },
 "nbformat": 4,
 "nbformat_minor": 2
}
