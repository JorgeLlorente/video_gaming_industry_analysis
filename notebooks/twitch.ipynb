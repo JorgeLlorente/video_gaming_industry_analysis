{
 "cells": [
  {
   "cell_type": "code",
   "execution_count": 18,
   "metadata": {},
   "outputs": [],
   "source": [
    "import requests\n",
    "import pandas as pd\n",
    "from time import sleep\n",
    "import numpy as np\n",
    "import os\n",
    "import re\n",
    "import calendar\n",
    "\n",
    "from selenium import webdriver\n",
    "from webdriver_manager.chrome import ChromeDriverManager\n",
    "from selenium.webdriver.common.keys import Keys\n",
    "from selenium.webdriver.chrome.options import Options\n",
    "from selenium.webdriver.support.ui import WebDriverWait\n",
    "from selenium.webdriver.support import expected_conditions as EC\n",
    "from selenium.webdriver.common.by import By\n",
    "from selenium.common.exceptions import TimeoutException\n",
    "\n",
    "\n",
    "import warnings\n",
    "warnings.filterwarnings('ignore')"
   ]
  },
  {
   "attachments": {},
   "cell_type": "markdown",
   "metadata": {},
   "source": [
    "#### Web Scraping"
   ]
  },
  {
   "cell_type": "code",
   "execution_count": 2,
   "metadata": {},
   "outputs": [],
   "source": [
    "opciones= Options()\n",
    "opciones.add_experimental_option('excludeSwitches', ['enable-automation'])\n",
    "opciones.add_experimental_option('useAutomationExtension', False)\n",
    "opciones.add_argument('--start-maximized')\n",
    "opciones.add_argument('user.data-dir=selenium')\n",
    "opciones.add_argument('--incognito')"
   ]
  },
  {
   "cell_type": "code",
   "execution_count": 26,
   "metadata": {},
   "outputs": [],
   "source": [
    "años = [\"2016\", \"2017\", \"2018\", \"2019\", \"2020\", \"2021\", \"2022\"]\n",
    "meses = [\"january\", \"february\", \"march\", \"april\", \"may\", \"june\",\n",
    "         \"july\", \"august\", \"september\", \"octuber\", \"november\", \"december\"]"
   ]
  },
  {
   "cell_type": "code",
   "execution_count": 32,
   "metadata": {},
   "outputs": [],
   "source": [
    "driver = webdriver.Chrome(ChromeDriverManager().install())\n",
    "for año in años:\n",
    "    for mes in meses:\n",
    "        if mes == \"january\" and año == \"2016\":\n",
    "            driver.implicitly_wait(20)\n",
    "            driver.get(f\"https://sullygnome.com/games/{año}{mes}/watched\")\n",
    "            driver.find_element(\"css selector\", \"#tblControl_length > label > select\").click()\n",
    "            sleep(2)\n",
    "            driver.find_element(\"css selector\", \"#tblControl_length > label > select > option:nth-child(4)\").click()\n",
    "            sleep(2)\n",
    "            resultado = driver.find_element(\"css selector\",\"#tblControl_wrapper > div.top.TableTopMenu > div.dt-buttons > button.dt-button.buttons-csv.buttons-html5.TableExportLinkButton\").click()\n",
    "            sleep(3)\n",
    "            os.rename(rf\"C:\\Users\\jorge\\Downloads\\Most watched games on Twitch - SullyGnome.csv\",\n",
    "            rf\"C:\\Users\\jorge\\Downloads\\Most watched games on Twitch {año} {mes} - SullyGnome.csv\")\n",
    "        else:\n",
    "            driver.implicitly_wait(20)\n",
    "            driver.get(f\"https://sullygnome.com/games/{año}{mes}/watched\")\n",
    "            sleep(3)\n",
    "            resultado = driver.find_element(\"css selector\",\"#tblControl_wrapper > div.top.TableTopMenu > div.dt-buttons > button.dt-button.buttons-csv.buttons-html5.TableExportLinkButton\").click()\n",
    "            sleep(3)\n",
    "            os.rename(rf\"C:\\Users\\jorge\\Downloads\\Most watched games on Twitch - SullyGnome.csv\",\n",
    "            rf\"C:\\Users\\jorge\\Downloads\\Most watched games on Twitch {año} {mes} - SullyGnome.csv\")"
   ]
  },
  {
   "cell_type": "code",
   "execution_count": null,
   "metadata": {},
   "outputs": [],
   "source": [
    "for año in años:\n",
    "    for mes in meses:\n",
    "        df = pd.dataframe()"
   ]
  },
  {
   "cell_type": "code",
   "execution_count": 70,
   "metadata": {},
   "outputs": [
    {
     "data": {
      "text/plain": [
       "[['2016', 'april'], ['2016', 'august'], ['2016', 'december']]"
      ]
     },
     "execution_count": 70,
     "metadata": {},
     "output_type": "execute_result"
    }
   ],
   "source": [
    "contenido = os.listdir(r\"C:\\Users\\jorge\\OneDrive\\Escritorio\\IronHack\\Work\\Proyecto_1\\CSV Twitch\")\n",
    "archivos = []\n",
    "for nombre in contenido:\n",
    "    archivos.append(re.findall(\"\\d{4}\\s\\w+\\s\", nombre)[0].rstrip().split(\" \"))\n",
    "archivos[0:3]"
   ]
  },
  {
   "cell_type": "code",
   "execution_count": 78,
   "metadata": {},
   "outputs": [],
   "source": [
    "lista_archivos = []\n",
    "for archivo in archivos:\n",
    "    df = pd.read_csv(f\"CSV Twitch\\Most watched games on Twitch {archivo[0]} {archivo[1]} - SullyGnome.csv\")\n",
    "    df.drop([\"Unnamed: 0\", \"Unnamed: 1\", \"Unnamed: 11\"], axis=1, inplace=True)\n",
    "    df[\"Año\"] = archivo[0]\n",
    "    df[\"Mes\"] = archivo[1]\n",
    "    lista_archivos.append(df)"
   ]
  },
  {
   "cell_type": "code",
   "execution_count": 92,
   "metadata": {},
   "outputs": [],
   "source": [
    "df_twitch = pd.concat(lista_archivos, axis=0, ignore_index=True)"
   ]
  },
  {
   "cell_type": "code",
   "execution_count": 118,
   "metadata": {},
   "outputs": [],
   "source": [
    "df_twitch.to_csv(\"twitch_data\")"
   ]
  },
  {
   "attachments": {},
   "cell_type": "markdown",
   "metadata": {},
   "source": [
    "#### Data Wrangling & Data Cleaning"
   ]
  },
  {
   "cell_type": "code",
   "execution_count": 118,
   "metadata": {},
   "outputs": [],
   "source": [
    "df = pd.read_csv(\"twitch_data\")\n",
    "df.drop([\"Unnamed: 0\"], axis=1,inplace=True)"
   ]
  },
  {
   "cell_type": "code",
   "execution_count": 119,
   "metadata": {},
   "outputs": [
    {
     "name": "stdout",
     "output_type": "stream",
     "text": [
      "<class 'pandas.core.frame.DataFrame'>\n",
      "RangeIndex: 8400 entries, 0 to 8399\n",
      "Data columns (total 11 columns):\n",
      " #   Column                Non-Null Count  Dtype  \n",
      "---  ------                --------------  -----  \n",
      " 0   Game                  8400 non-null   object \n",
      " 1   Watch time (mins)     8400 non-null   int64  \n",
      " 2   Stream time (mins)    8400 non-null   int64  \n",
      " 3   Peak viewers          8400 non-null   int64  \n",
      " 4   Peak channels         8400 non-null   int64  \n",
      " 5   Streamers             8400 non-null   int64  \n",
      " 6   Average viewers       8400 non-null   int64  \n",
      " 7   Average channels      8400 non-null   int64  \n",
      " 8   Average viewer ratio  8400 non-null   float64\n",
      " 9   Año                   8400 non-null   int64  \n",
      " 10  Mes                   8400 non-null   object \n",
      "dtypes: float64(1), int64(8), object(2)\n",
      "memory usage: 722.0+ KB\n"
     ]
    }
   ],
   "source": [
    "df.info()"
   ]
  },
  {
   "cell_type": "code",
   "execution_count": 120,
   "metadata": {},
   "outputs": [
    {
     "data": {
      "text/html": [
       "<div>\n",
       "<style scoped>\n",
       "    .dataframe tbody tr th:only-of-type {\n",
       "        vertical-align: middle;\n",
       "    }\n",
       "\n",
       "    .dataframe tbody tr th {\n",
       "        vertical-align: top;\n",
       "    }\n",
       "\n",
       "    .dataframe thead th {\n",
       "        text-align: right;\n",
       "    }\n",
       "</style>\n",
       "<table border=\"1\" class=\"dataframe\">\n",
       "  <thead>\n",
       "    <tr style=\"text-align: right;\">\n",
       "      <th></th>\n",
       "      <th>count</th>\n",
       "      <th>mean</th>\n",
       "      <th>std</th>\n",
       "      <th>min</th>\n",
       "      <th>25%</th>\n",
       "      <th>50%</th>\n",
       "      <th>75%</th>\n",
       "      <th>max</th>\n",
       "    </tr>\n",
       "  </thead>\n",
       "  <tbody>\n",
       "    <tr>\n",
       "      <th>Watch time (mins)</th>\n",
       "      <td>8400.0</td>\n",
       "      <td>1.131352e+09</td>\n",
       "      <td>5.381248e+09</td>\n",
       "      <td>14506080.00</td>\n",
       "      <td>75070110.00</td>\n",
       "      <td>1.795218e+08</td>\n",
       "      <td>5.582556e+08</td>\n",
       "      <td>1.883467e+11</td>\n",
       "    </tr>\n",
       "    <tr>\n",
       "      <th>Stream time (mins)</th>\n",
       "      <td>8400.0</td>\n",
       "      <td>3.550903e+07</td>\n",
       "      <td>1.636521e+08</td>\n",
       "      <td>7380.00</td>\n",
       "      <td>2185005.00</td>\n",
       "      <td>5.821170e+06</td>\n",
       "      <td>1.827904e+07</td>\n",
       "      <td>4.965171e+09</td>\n",
       "    </tr>\n",
       "    <tr>\n",
       "      <th>Peak viewers</th>\n",
       "      <td>8400.0</td>\n",
       "      <td>1.099820e+05</td>\n",
       "      <td>2.275898e+05</td>\n",
       "      <td>696.00</td>\n",
       "      <td>18781.75</td>\n",
       "      <td>4.078050e+04</td>\n",
       "      <td>1.000890e+05</td>\n",
       "      <td>3.366021e+06</td>\n",
       "    </tr>\n",
       "    <tr>\n",
       "      <th>Peak channels</th>\n",
       "      <td>8400.0</td>\n",
       "      <td>1.298094e+03</td>\n",
       "      <td>4.367347e+03</td>\n",
       "      <td>3.00</td>\n",
       "      <td>132.00</td>\n",
       "      <td>3.100000e+02</td>\n",
       "      <td>9.535000e+02</td>\n",
       "      <td>1.298600e+05</td>\n",
       "    </tr>\n",
       "    <tr>\n",
       "      <th>Streamers</th>\n",
       "      <td>8400.0</td>\n",
       "      <td>5.095480e+04</td>\n",
       "      <td>1.565993e+05</td>\n",
       "      <td>0.00</td>\n",
       "      <td>4215.00</td>\n",
       "      <td>1.089650e+04</td>\n",
       "      <td>3.673725e+04</td>\n",
       "      <td>4.058092e+06</td>\n",
       "    </tr>\n",
       "    <tr>\n",
       "      <th>Average viewers</th>\n",
       "      <td>8400.0</td>\n",
       "      <td>1.369172e+04</td>\n",
       "      <td>3.395789e+04</td>\n",
       "      <td>336.00</td>\n",
       "      <td>1574.00</td>\n",
       "      <td>3.599000e+03</td>\n",
       "      <td>8.425250e+03</td>\n",
       "      <td>4.792090e+05</td>\n",
       "    </tr>\n",
       "    <tr>\n",
       "      <th>Average channels</th>\n",
       "      <td>8400.0</td>\n",
       "      <td>4.282768e+02</td>\n",
       "      <td>1.037898e+03</td>\n",
       "      <td>0.00</td>\n",
       "      <td>46.00</td>\n",
       "      <td>1.140000e+02</td>\n",
       "      <td>2.982500e+02</td>\n",
       "      <td>1.378900e+04</td>\n",
       "    </tr>\n",
       "    <tr>\n",
       "      <th>Average viewer ratio</th>\n",
       "      <td>8400.0</td>\n",
       "      <td>5.775625e+01</td>\n",
       "      <td>1.407767e+02</td>\n",
       "      <td>1.95</td>\n",
       "      <td>18.42</td>\n",
       "      <td>3.235500e+01</td>\n",
       "      <td>6.109000e+01</td>\n",
       "      <td>4.586720e+03</td>\n",
       "    </tr>\n",
       "    <tr>\n",
       "      <th>Año</th>\n",
       "      <td>8400.0</td>\n",
       "      <td>2.019000e+03</td>\n",
       "      <td>2.000119e+00</td>\n",
       "      <td>2016.00</td>\n",
       "      <td>2017.00</td>\n",
       "      <td>2.019000e+03</td>\n",
       "      <td>2.021000e+03</td>\n",
       "      <td>2.022000e+03</td>\n",
       "    </tr>\n",
       "  </tbody>\n",
       "</table>\n",
       "</div>"
      ],
      "text/plain": [
       "                       count          mean           std          min  \\\n",
       "Watch time (mins)     8400.0  1.131352e+09  5.381248e+09  14506080.00   \n",
       "Stream time (mins)    8400.0  3.550903e+07  1.636521e+08      7380.00   \n",
       "Peak viewers          8400.0  1.099820e+05  2.275898e+05       696.00   \n",
       "Peak channels         8400.0  1.298094e+03  4.367347e+03         3.00   \n",
       "Streamers             8400.0  5.095480e+04  1.565993e+05         0.00   \n",
       "Average viewers       8400.0  1.369172e+04  3.395789e+04       336.00   \n",
       "Average channels      8400.0  4.282768e+02  1.037898e+03         0.00   \n",
       "Average viewer ratio  8400.0  5.775625e+01  1.407767e+02         1.95   \n",
       "Año                   8400.0  2.019000e+03  2.000119e+00      2016.00   \n",
       "\n",
       "                              25%           50%           75%           max  \n",
       "Watch time (mins)     75070110.00  1.795218e+08  5.582556e+08  1.883467e+11  \n",
       "Stream time (mins)     2185005.00  5.821170e+06  1.827904e+07  4.965171e+09  \n",
       "Peak viewers             18781.75  4.078050e+04  1.000890e+05  3.366021e+06  \n",
       "Peak channels              132.00  3.100000e+02  9.535000e+02  1.298600e+05  \n",
       "Streamers                 4215.00  1.089650e+04  3.673725e+04  4.058092e+06  \n",
       "Average viewers           1574.00  3.599000e+03  8.425250e+03  4.792090e+05  \n",
       "Average channels            46.00  1.140000e+02  2.982500e+02  1.378900e+04  \n",
       "Average viewer ratio        18.42  3.235500e+01  6.109000e+01  4.586720e+03  \n",
       "Año                       2017.00  2.019000e+03  2.021000e+03  2.022000e+03  "
      ]
     },
     "execution_count": 120,
     "metadata": {},
     "output_type": "execute_result"
    }
   ],
   "source": [
    "df.describe().T"
   ]
  },
  {
   "cell_type": "code",
   "execution_count": 121,
   "metadata": {},
   "outputs": [
    {
     "data": {
      "text/html": [
       "<div>\n",
       "<style scoped>\n",
       "    .dataframe tbody tr th:only-of-type {\n",
       "        vertical-align: middle;\n",
       "    }\n",
       "\n",
       "    .dataframe tbody tr th {\n",
       "        vertical-align: top;\n",
       "    }\n",
       "\n",
       "    .dataframe thead th {\n",
       "        text-align: right;\n",
       "    }\n",
       "</style>\n",
       "<table border=\"1\" class=\"dataframe\">\n",
       "  <thead>\n",
       "    <tr style=\"text-align: right;\">\n",
       "      <th></th>\n",
       "      <th>count</th>\n",
       "      <th>unique</th>\n",
       "      <th>top</th>\n",
       "      <th>freq</th>\n",
       "    </tr>\n",
       "  </thead>\n",
       "  <tbody>\n",
       "    <tr>\n",
       "      <th>Game</th>\n",
       "      <td>8400</td>\n",
       "      <td>936</td>\n",
       "      <td>League of Legends</td>\n",
       "      <td>84</td>\n",
       "    </tr>\n",
       "    <tr>\n",
       "      <th>Mes</th>\n",
       "      <td>8400</td>\n",
       "      <td>12</td>\n",
       "      <td>april</td>\n",
       "      <td>700</td>\n",
       "    </tr>\n",
       "  </tbody>\n",
       "</table>\n",
       "</div>"
      ],
      "text/plain": [
       "     count unique                top freq\n",
       "Game  8400    936  League of Legends   84\n",
       "Mes   8400     12              april  700"
      ]
     },
     "execution_count": 121,
     "metadata": {},
     "output_type": "execute_result"
    }
   ],
   "source": [
    "df.describe(include=\"object\").T"
   ]
  },
  {
   "cell_type": "code",
   "execution_count": 122,
   "metadata": {},
   "outputs": [
    {
     "data": {
      "text/html": [
       "<div>\n",
       "<style scoped>\n",
       "    .dataframe tbody tr th:only-of-type {\n",
       "        vertical-align: middle;\n",
       "    }\n",
       "\n",
       "    .dataframe tbody tr th {\n",
       "        vertical-align: top;\n",
       "    }\n",
       "\n",
       "    .dataframe thead th {\n",
       "        text-align: right;\n",
       "    }\n",
       "</style>\n",
       "<table border=\"1\" class=\"dataframe\">\n",
       "  <thead>\n",
       "    <tr style=\"text-align: right;\">\n",
       "      <th></th>\n",
       "      <th>Game</th>\n",
       "      <th>Watch time (mins)</th>\n",
       "      <th>Stream time (mins)</th>\n",
       "      <th>Peak viewers</th>\n",
       "      <th>Peak channels</th>\n",
       "      <th>Streamers</th>\n",
       "      <th>Average viewers</th>\n",
       "      <th>Average channels</th>\n",
       "      <th>Average viewer ratio</th>\n",
       "      <th>Año</th>\n",
       "      <th>Mes</th>\n",
       "    </tr>\n",
       "  </thead>\n",
       "  <tbody>\n",
       "    <tr>\n",
       "      <th>0</th>\n",
       "      <td>League of Legends</td>\n",
       "      <td>5303342940</td>\n",
       "      <td>73035000</td>\n",
       "      <td>553165</td>\n",
       "      <td>2945</td>\n",
       "      <td>113251</td>\n",
       "      <td>122933</td>\n",
       "      <td>1692</td>\n",
       "      <td>72.61</td>\n",
       "      <td>2016</td>\n",
       "      <td>april</td>\n",
       "    </tr>\n",
       "  </tbody>\n",
       "</table>\n",
       "</div>"
      ],
      "text/plain": [
       "                Game  Watch time (mins)  Stream time (mins)  Peak viewers  \\\n",
       "0  League of Legends         5303342940            73035000        553165   \n",
       "\n",
       "   Peak channels  Streamers  Average viewers  Average channels  \\\n",
       "0           2945     113251           122933              1692   \n",
       "\n",
       "   Average viewer ratio   Año    Mes  \n",
       "0                 72.61  2016  april  "
      ]
     },
     "execution_count": 122,
     "metadata": {},
     "output_type": "execute_result"
    }
   ],
   "source": [
    "df.head(1)"
   ]
  },
  {
   "cell_type": "code",
   "execution_count": 123,
   "metadata": {},
   "outputs": [],
   "source": [
    "df.Mes = df.Mes.str.replace(\"octuber\", \"october\")"
   ]
  },
  {
   "cell_type": "code",
   "execution_count": 124,
   "metadata": {},
   "outputs": [
    {
     "data": {
      "text/plain": [
       "['january',\n",
       " 'february',\n",
       " 'march',\n",
       " 'april',\n",
       " 'may',\n",
       " 'june',\n",
       " 'july',\n",
       " 'august',\n",
       " 'september',\n",
       " 'october',\n",
       " 'november',\n",
       " 'december']"
      ]
     },
     "execution_count": 124,
     "metadata": {},
     "output_type": "execute_result"
    }
   ],
   "source": [
    "mes_n = [\"01\",\"02\",\"03\",\"04\",\"05\",\"06\",\"07\",\"08\",\"09\",\"10\",\"11\",\"12\"]\n",
    "lista_meses = list(calendar.month_name)[1:]\n",
    "mes_c = []\n",
    "for mes in lista_meses:\n",
    "    mes_c.append(mes.lower())\n",
    "mes_c"
   ]
  },
  {
   "cell_type": "code",
   "execution_count": 125,
   "metadata": {},
   "outputs": [],
   "source": [
    "def meses(m):\n",
    "    for n, c in zip(mes_n, mes_c):\n",
    "        if m == c:\n",
    "            return n"
   ]
  },
  {
   "cell_type": "code",
   "execution_count": 126,
   "metadata": {},
   "outputs": [],
   "source": [
    "df[\"mes\"] = df[\"Mes\"].apply(meses)"
   ]
  },
  {
   "cell_type": "code",
   "execution_count": 127,
   "metadata": {},
   "outputs": [
    {
     "data": {
      "text/html": [
       "<div>\n",
       "<style scoped>\n",
       "    .dataframe tbody tr th:only-of-type {\n",
       "        vertical-align: middle;\n",
       "    }\n",
       "\n",
       "    .dataframe tbody tr th {\n",
       "        vertical-align: top;\n",
       "    }\n",
       "\n",
       "    .dataframe thead th {\n",
       "        text-align: right;\n",
       "    }\n",
       "</style>\n",
       "<table border=\"1\" class=\"dataframe\">\n",
       "  <thead>\n",
       "    <tr style=\"text-align: right;\">\n",
       "      <th></th>\n",
       "      <th>Game</th>\n",
       "      <th>Watch time (mins)</th>\n",
       "      <th>Stream time (mins)</th>\n",
       "      <th>Peak viewers</th>\n",
       "      <th>Peak channels</th>\n",
       "      <th>Streamers</th>\n",
       "      <th>Average viewers</th>\n",
       "      <th>Average channels</th>\n",
       "      <th>Average viewer ratio</th>\n",
       "      <th>Año</th>\n",
       "      <th>Mes</th>\n",
       "      <th>mes</th>\n",
       "    </tr>\n",
       "  </thead>\n",
       "  <tbody>\n",
       "    <tr>\n",
       "      <th>497</th>\n",
       "      <td>Secret Hitler</td>\n",
       "      <td>21206100</td>\n",
       "      <td>29520</td>\n",
       "      <td>41675</td>\n",
       "      <td>12</td>\n",
       "      <td>112</td>\n",
       "      <td>475</td>\n",
       "      <td>0</td>\n",
       "      <td>718.36</td>\n",
       "      <td>2016</td>\n",
       "      <td>january</td>\n",
       "      <td>01</td>\n",
       "    </tr>\n",
       "    <tr>\n",
       "      <th>2608</th>\n",
       "      <td>Atlas</td>\n",
       "      <td>1160434620</td>\n",
       "      <td>9056640</td>\n",
       "      <td>318887</td>\n",
       "      <td>2104</td>\n",
       "      <td>14786</td>\n",
       "      <td>26030</td>\n",
       "      <td>203</td>\n",
       "      <td>128.13</td>\n",
       "      <td>2018</td>\n",
       "      <td>december</td>\n",
       "      <td>12</td>\n",
       "    </tr>\n",
       "  </tbody>\n",
       "</table>\n",
       "</div>"
      ],
      "text/plain": [
       "               Game  Watch time (mins)  Stream time (mins)  Peak viewers  \\\n",
       "497   Secret Hitler           21206100               29520         41675   \n",
       "2608          Atlas         1160434620             9056640        318887   \n",
       "\n",
       "      Peak channels  Streamers  Average viewers  Average channels  \\\n",
       "497              12        112              475                 0   \n",
       "2608           2104      14786            26030               203   \n",
       "\n",
       "      Average viewer ratio   Año       Mes mes  \n",
       "497                 718.36  2016   january  01  \n",
       "2608                128.13  2018  december  12  "
      ]
     },
     "execution_count": 127,
     "metadata": {},
     "output_type": "execute_result"
    }
   ],
   "source": [
    "df.sample(2)"
   ]
  },
  {
   "cell_type": "code",
   "execution_count": 128,
   "metadata": {},
   "outputs": [],
   "source": [
    "df[\"fecha\"] = df[\"Año\"].astype(\"str\") + \"-\" + df[\"mes\"].astype(\"str\")\n"
   ]
  },
  {
   "cell_type": "code",
   "execution_count": 129,
   "metadata": {},
   "outputs": [],
   "source": [
    "df.drop([\"Año\", \"mes\", \"Mes\"], axis=1, inplace=True)"
   ]
  },
  {
   "cell_type": "code",
   "execution_count": 130,
   "metadata": {},
   "outputs": [
    {
     "data": {
      "text/html": [
       "<div>\n",
       "<style scoped>\n",
       "    .dataframe tbody tr th:only-of-type {\n",
       "        vertical-align: middle;\n",
       "    }\n",
       "\n",
       "    .dataframe tbody tr th {\n",
       "        vertical-align: top;\n",
       "    }\n",
       "\n",
       "    .dataframe thead th {\n",
       "        text-align: right;\n",
       "    }\n",
       "</style>\n",
       "<table border=\"1\" class=\"dataframe\">\n",
       "  <thead>\n",
       "    <tr style=\"text-align: right;\">\n",
       "      <th></th>\n",
       "      <th>Game</th>\n",
       "      <th>Watch time (mins)</th>\n",
       "      <th>Stream time (mins)</th>\n",
       "      <th>Peak viewers</th>\n",
       "      <th>Peak channels</th>\n",
       "      <th>Streamers</th>\n",
       "      <th>Average viewers</th>\n",
       "      <th>Average channels</th>\n",
       "      <th>Average viewer ratio</th>\n",
       "      <th>fecha</th>\n",
       "    </tr>\n",
       "  </thead>\n",
       "  <tbody>\n",
       "    <tr>\n",
       "      <th>0</th>\n",
       "      <td>League of Legends</td>\n",
       "      <td>5303342940</td>\n",
       "      <td>73035000</td>\n",
       "      <td>553165</td>\n",
       "      <td>2945</td>\n",
       "      <td>113251</td>\n",
       "      <td>122933</td>\n",
       "      <td>1692</td>\n",
       "      <td>72.61</td>\n",
       "      <td>2016-04</td>\n",
       "    </tr>\n",
       "  </tbody>\n",
       "</table>\n",
       "</div>"
      ],
      "text/plain": [
       "                Game  Watch time (mins)  Stream time (mins)  Peak viewers  \\\n",
       "0  League of Legends         5303342940            73035000        553165   \n",
       "\n",
       "   Peak channels  Streamers  Average viewers  Average channels  \\\n",
       "0           2945     113251           122933              1692   \n",
       "\n",
       "   Average viewer ratio    fecha  \n",
       "0                 72.61  2016-04  "
      ]
     },
     "execution_count": 130,
     "metadata": {},
     "output_type": "execute_result"
    }
   ],
   "source": [
    "df.head(1)"
   ]
  },
  {
   "cell_type": "code",
   "execution_count": 132,
   "metadata": {},
   "outputs": [],
   "source": [
    "df.columns = list(map(lambda x: x.replace(\" \",\"_\").lower(), df.columns))"
   ]
  },
  {
   "cell_type": "code",
   "execution_count": 133,
   "metadata": {},
   "outputs": [
    {
     "data": {
      "text/html": [
       "<div>\n",
       "<style scoped>\n",
       "    .dataframe tbody tr th:only-of-type {\n",
       "        vertical-align: middle;\n",
       "    }\n",
       "\n",
       "    .dataframe tbody tr th {\n",
       "        vertical-align: top;\n",
       "    }\n",
       "\n",
       "    .dataframe thead th {\n",
       "        text-align: right;\n",
       "    }\n",
       "</style>\n",
       "<table border=\"1\" class=\"dataframe\">\n",
       "  <thead>\n",
       "    <tr style=\"text-align: right;\">\n",
       "      <th></th>\n",
       "      <th>game</th>\n",
       "      <th>watch_time_(mins)</th>\n",
       "      <th>stream_time_(mins)</th>\n",
       "      <th>peak_viewers</th>\n",
       "      <th>peak_channels</th>\n",
       "      <th>streamers</th>\n",
       "      <th>average_viewers</th>\n",
       "      <th>average_channels</th>\n",
       "      <th>average_viewer_ratio</th>\n",
       "      <th>fecha</th>\n",
       "    </tr>\n",
       "  </thead>\n",
       "  <tbody>\n",
       "    <tr>\n",
       "      <th>0</th>\n",
       "      <td>League of Legends</td>\n",
       "      <td>5303342940</td>\n",
       "      <td>73035000</td>\n",
       "      <td>553165</td>\n",
       "      <td>2945</td>\n",
       "      <td>113251</td>\n",
       "      <td>122933</td>\n",
       "      <td>1692</td>\n",
       "      <td>72.61</td>\n",
       "      <td>2016-04</td>\n",
       "    </tr>\n",
       "  </tbody>\n",
       "</table>\n",
       "</div>"
      ],
      "text/plain": [
       "                game  watch_time_(mins)  stream_time_(mins)  peak_viewers  \\\n",
       "0  League of Legends         5303342940            73035000        553165   \n",
       "\n",
       "   peak_channels  streamers  average_viewers  average_channels  \\\n",
       "0           2945     113251           122933              1692   \n",
       "\n",
       "   average_viewer_ratio    fecha  \n",
       "0                 72.61  2016-04  "
      ]
     },
     "execution_count": 133,
     "metadata": {},
     "output_type": "execute_result"
    }
   ],
   "source": [
    "df.head(1)"
   ]
  },
  {
   "cell_type": "code",
   "execution_count": 134,
   "metadata": {},
   "outputs": [],
   "source": [
    "df[\"watch_time_(hours)\"] = df[\"watch_time_(mins)\"] / 60\n",
    "df[\"stream_time_(hours)\"] = df[\"stream_time_(mins)\"] / 60"
   ]
  },
  {
   "cell_type": "code",
   "execution_count": 135,
   "metadata": {},
   "outputs": [],
   "source": [
    "df.drop([\"watch_time_(mins)\", \"stream_time_(mins)\"], axis=1, inplace=True)"
   ]
  },
  {
   "cell_type": "code",
   "execution_count": 136,
   "metadata": {},
   "outputs": [],
   "source": [
    "df = df[[\"game\", \"watch_time_(hours)\", \"stream_time_(hours)\", \"peak_viewers\", \"peak_channels\",\n",
    "              \"streamers\", \"average_viewers\", \"average_channels\", \"average_viewer_ratio\",\"fecha\"]]"
   ]
  },
  {
   "cell_type": "code",
   "execution_count": 137,
   "metadata": {},
   "outputs": [
    {
     "data": {
      "text/html": [
       "<div>\n",
       "<style scoped>\n",
       "    .dataframe tbody tr th:only-of-type {\n",
       "        vertical-align: middle;\n",
       "    }\n",
       "\n",
       "    .dataframe tbody tr th {\n",
       "        vertical-align: top;\n",
       "    }\n",
       "\n",
       "    .dataframe thead th {\n",
       "        text-align: right;\n",
       "    }\n",
       "</style>\n",
       "<table border=\"1\" class=\"dataframe\">\n",
       "  <thead>\n",
       "    <tr style=\"text-align: right;\">\n",
       "      <th></th>\n",
       "      <th>game</th>\n",
       "      <th>watch_time_(hours)</th>\n",
       "      <th>stream_time_(hours)</th>\n",
       "      <th>peak_viewers</th>\n",
       "      <th>peak_channels</th>\n",
       "      <th>streamers</th>\n",
       "      <th>average_viewers</th>\n",
       "      <th>average_channels</th>\n",
       "      <th>average_viewer_ratio</th>\n",
       "      <th>fecha</th>\n",
       "    </tr>\n",
       "  </thead>\n",
       "  <tbody>\n",
       "    <tr>\n",
       "      <th>0</th>\n",
       "      <td>League of Legends</td>\n",
       "      <td>88389049.0</td>\n",
       "      <td>1217250.0</td>\n",
       "      <td>553165</td>\n",
       "      <td>2945</td>\n",
       "      <td>113251</td>\n",
       "      <td>122933</td>\n",
       "      <td>1692</td>\n",
       "      <td>72.61</td>\n",
       "      <td>2016-04</td>\n",
       "    </tr>\n",
       "  </tbody>\n",
       "</table>\n",
       "</div>"
      ],
      "text/plain": [
       "                game  watch_time_(hours)  stream_time_(hours)  peak_viewers  \\\n",
       "0  League of Legends          88389049.0            1217250.0        553165   \n",
       "\n",
       "   peak_channels  streamers  average_viewers  average_channels  \\\n",
       "0           2945     113251           122933              1692   \n",
       "\n",
       "   average_viewer_ratio    fecha  \n",
       "0                 72.61  2016-04  "
      ]
     },
     "execution_count": 137,
     "metadata": {},
     "output_type": "execute_result"
    }
   ],
   "source": [
    "df.head(1)"
   ]
  }
 ],
 "metadata": {
  "kernelspec": {
   "display_name": "Ironhack",
   "language": "python",
   "name": "python3"
  },
  "language_info": {
   "codemirror_mode": {
    "name": "ipython",
    "version": 3
   },
   "file_extension": ".py",
   "mimetype": "text/x-python",
   "name": "python",
   "nbconvert_exporter": "python",
   "pygments_lexer": "ipython3",
   "version": "3.9.13 (main, Oct 13 2022, 21:23:06) [MSC v.1916 64 bit (AMD64)]"
  },
  "orig_nbformat": 4,
  "vscode": {
   "interpreter": {
    "hash": "56a77335740ad1a046e88086f7afa474712daa7d9e49c7b8909a7efaca136dcd"
   }
  }
 },
 "nbformat": 4,
 "nbformat_minor": 2
}
