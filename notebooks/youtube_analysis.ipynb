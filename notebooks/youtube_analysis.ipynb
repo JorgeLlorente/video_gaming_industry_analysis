{
 "cells": [
  {
   "cell_type": "code",
   "execution_count": 2,
   "metadata": {},
   "outputs": [],
   "source": [
    "import pandas as pd\n",
    "import numpy as np\n",
    "import seaborn as sns\n",
    "import matplotlib.pyplot as plt"
   ]
  },
  {
   "cell_type": "code",
   "execution_count": 7,
   "metadata": {},
   "outputs": [],
   "source": [
    "df = pd.read_csv(\"youtube_data\")"
   ]
  },
  {
   "cell_type": "code",
   "execution_count": 8,
   "metadata": {},
   "outputs": [
    {
     "data": {
      "text/html": [
       "<div>\n",
       "<style scoped>\n",
       "    .dataframe tbody tr th:only-of-type {\n",
       "        vertical-align: middle;\n",
       "    }\n",
       "\n",
       "    .dataframe tbody tr th {\n",
       "        vertical-align: top;\n",
       "    }\n",
       "\n",
       "    .dataframe thead th {\n",
       "        text-align: right;\n",
       "    }\n",
       "</style>\n",
       "<table border=\"1\" class=\"dataframe\">\n",
       "  <thead>\n",
       "    <tr style=\"text-align: right;\">\n",
       "      <th></th>\n",
       "      <th>titulo</th>\n",
       "      <th>canal</th>\n",
       "      <th>visualizaciones</th>\n",
       "      <th>medida</th>\n",
       "      <th>tiempo</th>\n",
       "      <th>año</th>\n",
       "      <th>videojuego</th>\n",
       "    </tr>\n",
       "  </thead>\n",
       "  <tbody>\n",
       "    <tr>\n",
       "      <th>0</th>\n",
       "      <td>Fiora: Champion Spotlight | Gameplay - League ...</td>\n",
       "      <td>League of Legends</td>\n",
       "      <td>6564043</td>\n",
       "      <td>10</td>\n",
       "      <td>años</td>\n",
       "      <td>2012</td>\n",
       "      <td>League of Legends</td>\n",
       "    </tr>\n",
       "    <tr>\n",
       "      <th>1</th>\n",
       "      <td>Nautilus: Champion Spotlight | Gameplay - Leag...</td>\n",
       "      <td>League of Legends</td>\n",
       "      <td>4911561</td>\n",
       "      <td>10</td>\n",
       "      <td>años</td>\n",
       "      <td>2012</td>\n",
       "      <td>League of Legends</td>\n",
       "    </tr>\n",
       "    <tr>\n",
       "      <th>2</th>\n",
       "      <td>League of Legends : Best Champion</td>\n",
       "      <td>videogamedunkey</td>\n",
       "      <td>4139824</td>\n",
       "      <td>10</td>\n",
       "      <td>años</td>\n",
       "      <td>2012</td>\n",
       "      <td>League of Legends</td>\n",
       "    </tr>\n",
       "    <tr>\n",
       "      <th>3</th>\n",
       "      <td>Fiora Patch Preview | League of Legends</td>\n",
       "      <td>League of Legends</td>\n",
       "      <td>2221472</td>\n",
       "      <td>10</td>\n",
       "      <td>años</td>\n",
       "      <td>2012</td>\n",
       "      <td>League of Legends</td>\n",
       "    </tr>\n",
       "    <tr>\n",
       "      <th>4</th>\n",
       "      <td>League of Legends - Nautilus Patch Preview</td>\n",
       "      <td>League of Legends</td>\n",
       "      <td>2188543</td>\n",
       "      <td>10</td>\n",
       "      <td>años</td>\n",
       "      <td>2012</td>\n",
       "      <td>League of Legends</td>\n",
       "    </tr>\n",
       "  </tbody>\n",
       "</table>\n",
       "</div>"
      ],
      "text/plain": [
       "                                              titulo              canal  \\\n",
       "0  Fiora: Champion Spotlight | Gameplay - League ...  League of Legends   \n",
       "1  Nautilus: Champion Spotlight | Gameplay - Leag...  League of Legends   \n",
       "2                  League of Legends : Best Champion    videogamedunkey   \n",
       "3            Fiora Patch Preview | League of Legends  League of Legends   \n",
       "4         League of Legends - Nautilus Patch Preview  League of Legends   \n",
       "\n",
       "   visualizaciones  medida tiempo   año         videojuego  \n",
       "0          6564043      10   años  2012  League of Legends  \n",
       "1          4911561      10   años  2012  League of Legends  \n",
       "2          4139824      10   años  2012  League of Legends  \n",
       "3          2221472      10   años  2012  League of Legends  \n",
       "4          2188543      10   años  2012  League of Legends  "
      ]
     },
     "execution_count": 8,
     "metadata": {},
     "output_type": "execute_result"
    }
   ],
   "source": [
    "df.drop(\"Unnamed: 0\",axis=1,inplace=True)\n",
    "df.head()"
   ]
  }
 ],
 "metadata": {
  "kernelspec": {
   "display_name": "Ironhack",
   "language": "python",
   "name": "python3"
  },
  "language_info": {
   "codemirror_mode": {
    "name": "ipython",
    "version": 3
   },
   "file_extension": ".py",
   "mimetype": "text/x-python",
   "name": "python",
   "nbconvert_exporter": "python",
   "pygments_lexer": "ipython3",
   "version": "3.9.13 (main, Oct 13 2022, 21:23:06) [MSC v.1916 64 bit (AMD64)]"
  },
  "orig_nbformat": 4,
  "vscode": {
   "interpreter": {
    "hash": "56a77335740ad1a046e88086f7afa474712daa7d9e49c7b8909a7efaca136dcd"
   }
  }
 },
 "nbformat": 4,
 "nbformat_minor": 2
}
